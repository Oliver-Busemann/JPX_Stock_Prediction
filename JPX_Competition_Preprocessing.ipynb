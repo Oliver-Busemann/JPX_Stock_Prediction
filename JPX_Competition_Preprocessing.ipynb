{
 "cells": [
  {
   "cell_type": "code",
   "execution_count": 53,
   "id": "64ceeafd",
   "metadata": {},
   "outputs": [],
   "source": [
    "%matplotlib inline\n",
    "import os\n",
    "import matplotlib.pyplot as plt\n",
    "import pandas as pd\n",
    "import numpy as np\n",
    "from decimal import ROUND_HALF_UP, Decimal\n",
    "from sklearn.compose import ColumnTransformer\n",
    "from sklearn.preprocessing import StandardScaler\n",
    "import pickle\n",
    "import joblib"
   ]
  },
  {
   "cell_type": "code",
   "execution_count": 2,
   "id": "d31d9924",
   "metadata": {},
   "outputs": [],
   "source": [
    "import warnings\n",
    "warnings.filterwarnings('ignore')"
   ]
  },
  {
   "cell_type": "markdown",
   "id": "9c76c139",
   "metadata": {},
   "source": [
    "# Load & analyse the data"
   ]
  },
  {
   "cell_type": "code",
   "execution_count": 3,
   "id": "4114fc20",
   "metadata": {},
   "outputs": [],
   "source": [
    "train_files_folder = '/home/olli/Projects/Kaggle/jpx/jpx_data/train_files'\n",
    "supplemental_files_folder = '/home/olli/Projects/Kaggle/jpx/jpx_data/supplemental_files'"
   ]
  },
  {
   "cell_type": "code",
   "execution_count": 4,
   "id": "c8b93bb6",
   "metadata": {},
   "outputs": [],
   "source": [
    "stock_prices_path = os.path.join(train_files_folder, 'stock_prices.csv')\n",
    "stock_prices_path_add = os.path.join(supplemental_files_folder, 'stock_prices.csv')"
   ]
  },
  {
   "cell_type": "code",
   "execution_count": 5,
   "id": "97a3ee35",
   "metadata": {},
   "outputs": [],
   "source": [
    "stock_prices = pd.read_csv(stock_prices_path)\n",
    "stock_prices_2 = pd.read_csv(stock_prices_path_add)"
   ]
  },
  {
   "cell_type": "markdown",
   "id": "68a543cc",
   "metadata": {},
   "source": [
    "While the competition started new data from the stock markets was provided; all the data should be used"
   ]
  },
  {
   "cell_type": "code",
   "execution_count": 6,
   "id": "3b601c66",
   "metadata": {},
   "outputs": [
    {
     "data": {
      "text/html": [
       "<div>\n",
       "<style scoped>\n",
       "    .dataframe tbody tr th:only-of-type {\n",
       "        vertical-align: middle;\n",
       "    }\n",
       "\n",
       "    .dataframe tbody tr th {\n",
       "        vertical-align: top;\n",
       "    }\n",
       "\n",
       "    .dataframe thead th {\n",
       "        text-align: right;\n",
       "    }\n",
       "</style>\n",
       "<table border=\"1\" class=\"dataframe\">\n",
       "  <thead>\n",
       "    <tr style=\"text-align: right;\">\n",
       "      <th></th>\n",
       "      <th>RowId</th>\n",
       "      <th>Date</th>\n",
       "      <th>SecuritiesCode</th>\n",
       "      <th>Open</th>\n",
       "      <th>High</th>\n",
       "      <th>Low</th>\n",
       "      <th>Close</th>\n",
       "      <th>Volume</th>\n",
       "      <th>AdjustmentFactor</th>\n",
       "      <th>ExpectedDividend</th>\n",
       "      <th>SupervisionFlag</th>\n",
       "      <th>Target</th>\n",
       "    </tr>\n",
       "  </thead>\n",
       "  <tbody>\n",
       "    <tr>\n",
       "      <th>2332528</th>\n",
       "      <td>20211203_9993</td>\n",
       "      <td>2021-12-03</td>\n",
       "      <td>9993</td>\n",
       "      <td>1690.0</td>\n",
       "      <td>1690.0</td>\n",
       "      <td>1645.0</td>\n",
       "      <td>1645.0</td>\n",
       "      <td>7200</td>\n",
       "      <td>1.0</td>\n",
       "      <td>NaN</td>\n",
       "      <td>False</td>\n",
       "      <td>-0.004302</td>\n",
       "    </tr>\n",
       "    <tr>\n",
       "      <th>2332529</th>\n",
       "      <td>20211203_9994</td>\n",
       "      <td>2021-12-03</td>\n",
       "      <td>9994</td>\n",
       "      <td>2388.0</td>\n",
       "      <td>2396.0</td>\n",
       "      <td>2380.0</td>\n",
       "      <td>2389.0</td>\n",
       "      <td>6500</td>\n",
       "      <td>1.0</td>\n",
       "      <td>NaN</td>\n",
       "      <td>False</td>\n",
       "      <td>0.009098</td>\n",
       "    </tr>\n",
       "    <tr>\n",
       "      <th>2332530</th>\n",
       "      <td>20211203_9997</td>\n",
       "      <td>2021-12-03</td>\n",
       "      <td>9997</td>\n",
       "      <td>690.0</td>\n",
       "      <td>711.0</td>\n",
       "      <td>686.0</td>\n",
       "      <td>696.0</td>\n",
       "      <td>381100</td>\n",
       "      <td>1.0</td>\n",
       "      <td>NaN</td>\n",
       "      <td>False</td>\n",
       "      <td>0.018414</td>\n",
       "    </tr>\n",
       "  </tbody>\n",
       "</table>\n",
       "</div>"
      ],
      "text/plain": [
       "                 RowId        Date  SecuritiesCode    Open    High     Low  \\\n",
       "2332528  20211203_9993  2021-12-03            9993  1690.0  1690.0  1645.0   \n",
       "2332529  20211203_9994  2021-12-03            9994  2388.0  2396.0  2380.0   \n",
       "2332530  20211203_9997  2021-12-03            9997   690.0   711.0   686.0   \n",
       "\n",
       "          Close  Volume  AdjustmentFactor  ExpectedDividend  SupervisionFlag  \\\n",
       "2332528  1645.0    7200               1.0               NaN            False   \n",
       "2332529  2389.0    6500               1.0               NaN            False   \n",
       "2332530   696.0  381100               1.0               NaN            False   \n",
       "\n",
       "           Target  \n",
       "2332528 -0.004302  \n",
       "2332529  0.009098  \n",
       "2332530  0.018414  "
      ]
     },
     "execution_count": 6,
     "metadata": {},
     "output_type": "execute_result"
    }
   ],
   "source": [
    "stock_prices.tail(3)"
   ]
  },
  {
   "cell_type": "code",
   "execution_count": 7,
   "id": "86c4996c",
   "metadata": {},
   "outputs": [
    {
     "data": {
      "text/html": [
       "<div>\n",
       "<style scoped>\n",
       "    .dataframe tbody tr th:only-of-type {\n",
       "        vertical-align: middle;\n",
       "    }\n",
       "\n",
       "    .dataframe tbody tr th {\n",
       "        vertical-align: top;\n",
       "    }\n",
       "\n",
       "    .dataframe thead th {\n",
       "        text-align: right;\n",
       "    }\n",
       "</style>\n",
       "<table border=\"1\" class=\"dataframe\">\n",
       "  <thead>\n",
       "    <tr style=\"text-align: right;\">\n",
       "      <th></th>\n",
       "      <th>RowId</th>\n",
       "      <th>Date</th>\n",
       "      <th>SecuritiesCode</th>\n",
       "      <th>Open</th>\n",
       "      <th>High</th>\n",
       "      <th>Low</th>\n",
       "      <th>Close</th>\n",
       "      <th>Volume</th>\n",
       "      <th>AdjustmentFactor</th>\n",
       "      <th>ExpectedDividend</th>\n",
       "      <th>SupervisionFlag</th>\n",
       "      <th>Target</th>\n",
       "    </tr>\n",
       "  </thead>\n",
       "  <tbody>\n",
       "    <tr>\n",
       "      <th>0</th>\n",
       "      <td>20211206_1301</td>\n",
       "      <td>2021-12-06</td>\n",
       "      <td>1301</td>\n",
       "      <td>2982.0</td>\n",
       "      <td>2982.0</td>\n",
       "      <td>2965.0</td>\n",
       "      <td>2971.0</td>\n",
       "      <td>8900</td>\n",
       "      <td>1.0</td>\n",
       "      <td>NaN</td>\n",
       "      <td>False</td>\n",
       "      <td>-0.003263</td>\n",
       "    </tr>\n",
       "    <tr>\n",
       "      <th>1</th>\n",
       "      <td>20211206_1332</td>\n",
       "      <td>2021-12-06</td>\n",
       "      <td>1332</td>\n",
       "      <td>592.0</td>\n",
       "      <td>599.0</td>\n",
       "      <td>588.0</td>\n",
       "      <td>589.0</td>\n",
       "      <td>1360800</td>\n",
       "      <td>1.0</td>\n",
       "      <td>NaN</td>\n",
       "      <td>False</td>\n",
       "      <td>-0.008993</td>\n",
       "    </tr>\n",
       "    <tr>\n",
       "      <th>2</th>\n",
       "      <td>20211206_1333</td>\n",
       "      <td>2021-12-06</td>\n",
       "      <td>1333</td>\n",
       "      <td>2368.0</td>\n",
       "      <td>2388.0</td>\n",
       "      <td>2360.0</td>\n",
       "      <td>2377.0</td>\n",
       "      <td>125900</td>\n",
       "      <td>1.0</td>\n",
       "      <td>NaN</td>\n",
       "      <td>False</td>\n",
       "      <td>-0.009963</td>\n",
       "    </tr>\n",
       "  </tbody>\n",
       "</table>\n",
       "</div>"
      ],
      "text/plain": [
       "           RowId        Date  SecuritiesCode    Open    High     Low   Close  \\\n",
       "0  20211206_1301  2021-12-06            1301  2982.0  2982.0  2965.0  2971.0   \n",
       "1  20211206_1332  2021-12-06            1332   592.0   599.0   588.0   589.0   \n",
       "2  20211206_1333  2021-12-06            1333  2368.0  2388.0  2360.0  2377.0   \n",
       "\n",
       "    Volume  AdjustmentFactor  ExpectedDividend  SupervisionFlag    Target  \n",
       "0     8900               1.0               NaN            False -0.003263  \n",
       "1  1360800               1.0               NaN            False -0.008993  \n",
       "2   125900               1.0               NaN            False -0.009963  "
      ]
     },
     "execution_count": 7,
     "metadata": {},
     "output_type": "execute_result"
    }
   ],
   "source": [
    "stock_prices_2.head(3)"
   ]
  },
  {
   "cell_type": "markdown",
   "id": "f6469de1",
   "metadata": {},
   "source": [
    "The dates show that the second df has the more recent dates (weekends are excluded as the stock exchange is closed)"
   ]
  },
  {
   "cell_type": "markdown",
   "id": "3c62e241",
   "metadata": {},
   "source": [
    "### Spot missing data & decide how to handle it"
   ]
  },
  {
   "cell_type": "code",
   "execution_count": 8,
   "id": "ed3fd4c3",
   "metadata": {},
   "outputs": [
    {
     "name": "stdout",
     "output_type": "stream",
     "text": [
      "<class 'pandas.core.frame.DataFrame'>\n",
      "RangeIndex: 2332531 entries, 0 to 2332530\n",
      "Data columns (total 12 columns):\n",
      " #   Column            Non-Null Count    Dtype  \n",
      "---  ------            --------------    -----  \n",
      " 0   RowId             2332531 non-null  object \n",
      " 1   Date              2332531 non-null  object \n",
      " 2   SecuritiesCode    2332531 non-null  int64  \n",
      " 3   Open              2324923 non-null  float64\n",
      " 4   High              2324923 non-null  float64\n",
      " 5   Low               2324923 non-null  float64\n",
      " 6   Close             2324923 non-null  float64\n",
      " 7   Volume            2332531 non-null  int64  \n",
      " 8   AdjustmentFactor  2332531 non-null  float64\n",
      " 9   ExpectedDividend  18865 non-null    float64\n",
      " 10  SupervisionFlag   2332531 non-null  bool   \n",
      " 11  Target            2332293 non-null  float64\n",
      "dtypes: bool(1), float64(7), int64(2), object(2)\n",
      "memory usage: 198.0+ MB\n"
     ]
    }
   ],
   "source": [
    "stock_prices.info(show_counts=True)"
   ]
  },
  {
   "cell_type": "code",
   "execution_count": 9,
   "id": "8d3be213",
   "metadata": {},
   "outputs": [
    {
     "name": "stdout",
     "output_type": "stream",
     "text": [
      "<class 'pandas.core.frame.DataFrame'>\n",
      "RangeIndex: 195993 entries, 0 to 195992\n",
      "Data columns (total 12 columns):\n",
      " #   Column            Non-Null Count   Dtype  \n",
      "---  ------            --------------   -----  \n",
      " 0   RowId             195993 non-null  object \n",
      " 1   Date              195993 non-null  object \n",
      " 2   SecuritiesCode    195993 non-null  int64  \n",
      " 3   Open              195402 non-null  float64\n",
      " 4   High              195402 non-null  float64\n",
      " 5   Low               195402 non-null  float64\n",
      " 6   Close             195402 non-null  float64\n",
      " 7   Volume            195993 non-null  int64  \n",
      " 8   AdjustmentFactor  195993 non-null  float64\n",
      " 9   ExpectedDividend  1956 non-null    float64\n",
      " 10  SupervisionFlag   195993 non-null  bool   \n",
      " 11  Target            195989 non-null  float64\n",
      "dtypes: bool(1), float64(7), int64(2), object(2)\n",
      "memory usage: 16.6+ MB\n"
     ]
    }
   ],
   "source": [
    "stock_prices_2.info()"
   ]
  },
  {
   "cell_type": "markdown",
   "id": "6d6255ee",
   "metadata": {},
   "source": [
    "ExpectedDividend: Most values are missing -> drop as a feature"
   ]
  },
  {
   "cell_type": "markdown",
   "id": "8abb2f5e",
   "metadata": {},
   "source": [
    "Open, High, Low, Close, Target: Few missing values -> Drop the rows"
   ]
  },
  {
   "cell_type": "code",
   "execution_count": 10,
   "id": "47701de6",
   "metadata": {},
   "outputs": [],
   "source": [
    "DF = pd.concat([stock_prices, stock_prices_2], axis=0)  # combine both dataframes"
   ]
  },
  {
   "cell_type": "code",
   "execution_count": 11,
   "id": "eef2a1e2",
   "metadata": {},
   "outputs": [
    {
     "data": {
      "text/html": [
       "<div>\n",
       "<style scoped>\n",
       "    .dataframe tbody tr th:only-of-type {\n",
       "        vertical-align: middle;\n",
       "    }\n",
       "\n",
       "    .dataframe tbody tr th {\n",
       "        vertical-align: top;\n",
       "    }\n",
       "\n",
       "    .dataframe thead th {\n",
       "        text-align: right;\n",
       "    }\n",
       "</style>\n",
       "<table border=\"1\" class=\"dataframe\">\n",
       "  <thead>\n",
       "    <tr style=\"text-align: right;\">\n",
       "      <th></th>\n",
       "      <th>RowId</th>\n",
       "      <th>Date</th>\n",
       "      <th>SecuritiesCode</th>\n",
       "      <th>Open</th>\n",
       "      <th>High</th>\n",
       "      <th>Low</th>\n",
       "      <th>Close</th>\n",
       "      <th>Volume</th>\n",
       "      <th>AdjustmentFactor</th>\n",
       "      <th>ExpectedDividend</th>\n",
       "      <th>SupervisionFlag</th>\n",
       "      <th>Target</th>\n",
       "    </tr>\n",
       "  </thead>\n",
       "  <tbody>\n",
       "    <tr>\n",
       "      <th>0</th>\n",
       "      <td>20170104_1301</td>\n",
       "      <td>2017-01-04</td>\n",
       "      <td>1301</td>\n",
       "      <td>2734.0</td>\n",
       "      <td>2755.0</td>\n",
       "      <td>2730.0</td>\n",
       "      <td>2742.0</td>\n",
       "      <td>31400</td>\n",
       "      <td>1.0</td>\n",
       "      <td>NaN</td>\n",
       "      <td>False</td>\n",
       "      <td>0.000730</td>\n",
       "    </tr>\n",
       "    <tr>\n",
       "      <th>1</th>\n",
       "      <td>20170104_1332</td>\n",
       "      <td>2017-01-04</td>\n",
       "      <td>1332</td>\n",
       "      <td>568.0</td>\n",
       "      <td>576.0</td>\n",
       "      <td>563.0</td>\n",
       "      <td>571.0</td>\n",
       "      <td>2798500</td>\n",
       "      <td>1.0</td>\n",
       "      <td>NaN</td>\n",
       "      <td>False</td>\n",
       "      <td>0.012324</td>\n",
       "    </tr>\n",
       "    <tr>\n",
       "      <th>2</th>\n",
       "      <td>20170104_1333</td>\n",
       "      <td>2017-01-04</td>\n",
       "      <td>1333</td>\n",
       "      <td>3150.0</td>\n",
       "      <td>3210.0</td>\n",
       "      <td>3140.0</td>\n",
       "      <td>3210.0</td>\n",
       "      <td>270800</td>\n",
       "      <td>1.0</td>\n",
       "      <td>NaN</td>\n",
       "      <td>False</td>\n",
       "      <td>0.006154</td>\n",
       "    </tr>\n",
       "    <tr>\n",
       "      <th>3</th>\n",
       "      <td>20170104_1376</td>\n",
       "      <td>2017-01-04</td>\n",
       "      <td>1376</td>\n",
       "      <td>1510.0</td>\n",
       "      <td>1550.0</td>\n",
       "      <td>1510.0</td>\n",
       "      <td>1550.0</td>\n",
       "      <td>11300</td>\n",
       "      <td>1.0</td>\n",
       "      <td>NaN</td>\n",
       "      <td>False</td>\n",
       "      <td>0.011053</td>\n",
       "    </tr>\n",
       "    <tr>\n",
       "      <th>4</th>\n",
       "      <td>20170104_1377</td>\n",
       "      <td>2017-01-04</td>\n",
       "      <td>1377</td>\n",
       "      <td>3270.0</td>\n",
       "      <td>3350.0</td>\n",
       "      <td>3270.0</td>\n",
       "      <td>3330.0</td>\n",
       "      <td>150800</td>\n",
       "      <td>1.0</td>\n",
       "      <td>NaN</td>\n",
       "      <td>False</td>\n",
       "      <td>0.003026</td>\n",
       "    </tr>\n",
       "  </tbody>\n",
       "</table>\n",
       "</div>"
      ],
      "text/plain": [
       "           RowId        Date  SecuritiesCode    Open    High     Low   Close  \\\n",
       "0  20170104_1301  2017-01-04            1301  2734.0  2755.0  2730.0  2742.0   \n",
       "1  20170104_1332  2017-01-04            1332   568.0   576.0   563.0   571.0   \n",
       "2  20170104_1333  2017-01-04            1333  3150.0  3210.0  3140.0  3210.0   \n",
       "3  20170104_1376  2017-01-04            1376  1510.0  1550.0  1510.0  1550.0   \n",
       "4  20170104_1377  2017-01-04            1377  3270.0  3350.0  3270.0  3330.0   \n",
       "\n",
       "    Volume  AdjustmentFactor  ExpectedDividend  SupervisionFlag    Target  \n",
       "0    31400               1.0               NaN            False  0.000730  \n",
       "1  2798500               1.0               NaN            False  0.012324  \n",
       "2   270800               1.0               NaN            False  0.006154  \n",
       "3    11300               1.0               NaN            False  0.011053  \n",
       "4   150800               1.0               NaN            False  0.003026  "
      ]
     },
     "execution_count": 11,
     "metadata": {},
     "output_type": "execute_result"
    }
   ],
   "source": [
    "DF.head()"
   ]
  },
  {
   "cell_type": "code",
   "execution_count": 12,
   "id": "a0fc2eaf",
   "metadata": {},
   "outputs": [
    {
     "data": {
      "text/plain": [
       "True"
      ]
     },
     "execution_count": 12,
     "metadata": {},
     "output_type": "execute_result"
    }
   ],
   "source": [
    "len(DF) == len(stock_prices) + len(stock_prices_2)"
   ]
  },
  {
   "cell_type": "markdown",
   "id": "59fbe91f",
   "metadata": {},
   "source": [
    "### Plot of the available stocks"
   ]
  },
  {
   "cell_type": "code",
   "execution_count": 13,
   "id": "cf4b96ed",
   "metadata": {},
   "outputs": [],
   "source": [
    "stocks = DF[['Date', 'SecuritiesCode']]"
   ]
  },
  {
   "cell_type": "code",
   "execution_count": 14,
   "id": "ee0371a7",
   "metadata": {},
   "outputs": [],
   "source": [
    "stocks['Date'] = pd.to_datetime(stocks['Date'])"
   ]
  },
  {
   "cell_type": "code",
   "execution_count": 15,
   "id": "c3a55c7c",
   "metadata": {},
   "outputs": [],
   "source": [
    "stocks = stocks.groupby('Date')['SecuritiesCode'].count().reset_index()"
   ]
  },
  {
   "cell_type": "code",
   "execution_count": 16,
   "id": "757a04ba",
   "metadata": {},
   "outputs": [
    {
     "data": {
      "text/plain": [
       "Text(0.5, 1.0, 'Available Stocks')"
      ]
     },
     "execution_count": 16,
     "metadata": {},
     "output_type": "execute_result"
    },
    {
     "data": {
      "image/png": "[encoded data removed]",
      "text/plain": [
       "<Figure size 432x288 with 1 Axes>"
      ]
     },
     "metadata": {
      "needs_background": "light"
     },
     "output_type": "display_data"
    }
   ],
   "source": [
    "plt.plot(stocks['Date'], stocks['SecuritiesCode'], linewidth=3, color='red')\n",
    "plt.xlabel('Year')\n",
    "plt.ylabel('Number of Stocks')\n",
    "plt.title('Available Stocks')"
   ]
  },
  {
   "cell_type": "markdown",
   "id": "622dc9a5",
   "metadata": {},
   "source": [
    "The number of stocks increased to 2000 stocks but decreased at the end - during the comp stocks might be delisted signaled by the feature 'SupervisionFlag'"
   ]
  },
  {
   "cell_type": "markdown",
   "id": "16e05dc0",
   "metadata": {},
   "source": [
    "### Plot of the target (stock returns)"
   ]
  },
  {
   "cell_type": "code",
   "execution_count": 17,
   "id": "0b9eee0a",
   "metadata": {},
   "outputs": [
    {
     "data": {
      "text/plain": [
       "Text(0.5, 1.0, 'Target Distribution')"
      ]
     },
     "execution_count": 17,
     "metadata": {},
     "output_type": "execute_result"
    },
    {
     "data": {
      "image/png": "[encoded data removed]",
      "text/plain": [
       "<Figure size 432x288 with 1 Axes>"
      ]
     },
     "metadata": {
      "needs_background": "light"
     },
     "output_type": "display_data"
    }
   ],
   "source": [
    "plt.hist(DF['Target'], bins=80, color='green', range=(-0.15, 0.15))\n",
    "plt.xlabel('Return')\n",
    "plt.ylabel('Frequency')\n",
    "plt.title('Target Distribution')"
   ]
  },
  {
   "cell_type": "markdown",
   "id": "f3a06a19",
   "metadata": {},
   "source": [
    "# Preprocessing"
   ]
  },
  {
   "cell_type": "markdown",
   "id": "1f944c5f",
   "metadata": {},
   "source": [
    "1) Drop useless features and missing rows"
   ]
  },
  {
   "cell_type": "markdown",
   "id": "b9471aa6",
   "metadata": {},
   "source": [
    "2) Calculate Adjusted Close with the provided function (for stocks that split/merged)"
   ]
  },
  {
   "cell_type": "code",
   "execution_count": 18,
   "id": "1f716acd",
   "metadata": {},
   "outputs": [],
   "source": [
    "def preprocess(data):\n",
    "    df = data.copy()\n",
    "    \n",
    "    df.drop(['RowId', 'ExpectedDividend', 'SupervisionFlag'], axis=1, inplace=True)  # columns (featues) not needed\n",
    "    \n",
    "    df.dropna(axis=0, inplace=True) #  drop the rows with missing values\n",
    "    \n",
    "    df = df.sort_values(['Date', 'SecuritiesCode']).reset_index(drop=True)\n",
    "    \n",
    "    return df"
   ]
  },
  {
   "cell_type": "code",
   "execution_count": 19,
   "id": "bb65f0a6",
   "metadata": {},
   "outputs": [],
   "source": [
    "df_prep = preprocess(DF)"
   ]
  },
  {
   "cell_type": "code",
   "execution_count": 20,
   "id": "4ae0db8a",
   "metadata": {},
   "outputs": [
    {
     "data": {
      "text/html": [
       "<div>\n",
       "<style scoped>\n",
       "    .dataframe tbody tr th:only-of-type {\n",
       "        vertical-align: middle;\n",
       "    }\n",
       "\n",
       "    .dataframe tbody tr th {\n",
       "        vertical-align: top;\n",
       "    }\n",
       "\n",
       "    .dataframe thead th {\n",
       "        text-align: right;\n",
       "    }\n",
       "</style>\n",
       "<table border=\"1\" class=\"dataframe\">\n",
       "  <thead>\n",
       "    <tr style=\"text-align: right;\">\n",
       "      <th></th>\n",
       "      <th>Date</th>\n",
       "      <th>SecuritiesCode</th>\n",
       "      <th>Open</th>\n",
       "      <th>High</th>\n",
       "      <th>Low</th>\n",
       "      <th>Close</th>\n",
       "      <th>Volume</th>\n",
       "      <th>AdjustmentFactor</th>\n",
       "      <th>Target</th>\n",
       "    </tr>\n",
       "  </thead>\n",
       "  <tbody>\n",
       "    <tr>\n",
       "      <th>0</th>\n",
       "      <td>2017-01-04</td>\n",
       "      <td>1301</td>\n",
       "      <td>2734.0</td>\n",
       "      <td>2755.0</td>\n",
       "      <td>2730.0</td>\n",
       "      <td>2742.0</td>\n",
       "      <td>31400</td>\n",
       "      <td>1.0</td>\n",
       "      <td>0.000730</td>\n",
       "    </tr>\n",
       "    <tr>\n",
       "      <th>1</th>\n",
       "      <td>2017-01-04</td>\n",
       "      <td>1332</td>\n",
       "      <td>568.0</td>\n",
       "      <td>576.0</td>\n",
       "      <td>563.0</td>\n",
       "      <td>571.0</td>\n",
       "      <td>2798500</td>\n",
       "      <td>1.0</td>\n",
       "      <td>0.012324</td>\n",
       "    </tr>\n",
       "    <tr>\n",
       "      <th>2</th>\n",
       "      <td>2017-01-04</td>\n",
       "      <td>1333</td>\n",
       "      <td>3150.0</td>\n",
       "      <td>3210.0</td>\n",
       "      <td>3140.0</td>\n",
       "      <td>3210.0</td>\n",
       "      <td>270800</td>\n",
       "      <td>1.0</td>\n",
       "      <td>0.006154</td>\n",
       "    </tr>\n",
       "    <tr>\n",
       "      <th>3</th>\n",
       "      <td>2017-01-04</td>\n",
       "      <td>1376</td>\n",
       "      <td>1510.0</td>\n",
       "      <td>1550.0</td>\n",
       "      <td>1510.0</td>\n",
       "      <td>1550.0</td>\n",
       "      <td>11300</td>\n",
       "      <td>1.0</td>\n",
       "      <td>0.011053</td>\n",
       "    </tr>\n",
       "    <tr>\n",
       "      <th>4</th>\n",
       "      <td>2017-01-04</td>\n",
       "      <td>1377</td>\n",
       "      <td>3270.0</td>\n",
       "      <td>3350.0</td>\n",
       "      <td>3270.0</td>\n",
       "      <td>3330.0</td>\n",
       "      <td>150800</td>\n",
       "      <td>1.0</td>\n",
       "      <td>0.003026</td>\n",
       "    </tr>\n",
       "  </tbody>\n",
       "</table>\n",
       "</div>"
      ],
      "text/plain": [
       "         Date  SecuritiesCode    Open    High     Low   Close   Volume  \\\n",
       "0  2017-01-04            1301  2734.0  2755.0  2730.0  2742.0    31400   \n",
       "1  2017-01-04            1332   568.0   576.0   563.0   571.0  2798500   \n",
       "2  2017-01-04            1333  3150.0  3210.0  3140.0  3210.0   270800   \n",
       "3  2017-01-04            1376  1510.0  1550.0  1510.0  1550.0    11300   \n",
       "4  2017-01-04            1377  3270.0  3350.0  3270.0  3330.0   150800   \n",
       "\n",
       "   AdjustmentFactor    Target  \n",
       "0               1.0  0.000730  \n",
       "1               1.0  0.012324  \n",
       "2               1.0  0.006154  \n",
       "3               1.0  0.011053  \n",
       "4               1.0  0.003026  "
      ]
     },
     "execution_count": 20,
     "metadata": {},
     "output_type": "execute_result"
    }
   ],
   "source": [
    "df_prep.head()"
   ]
  },
  {
   "cell_type": "markdown",
   "id": "067d74b2",
   "metadata": {},
   "source": [
    "The following function was provided by the host"
   ]
  },
  {
   "cell_type": "code",
   "execution_count": 21,
   "id": "96c586d0",
   "metadata": {},
   "outputs": [],
   "source": [
    "def adjust_price(price):\n",
    "    \"\"\"\n",
    "    Args:\n",
    "        price (pd.DataFrame)  : pd.DataFrame include stock_price\n",
    "    Returns:\n",
    "        price DataFrame (pd.DataFrame): stock_price with generated AdjustedClose\n",
    "    \"\"\"\n",
    "    # transform Date column into datetime\n",
    "    price.loc[: ,\"Date\"] = pd.to_datetime(price.loc[: ,\"Date\"], format=\"%Y-%m-%d\")\n",
    "\n",
    "    def generate_adjusted_close(df):\n",
    "        \"\"\"\n",
    "        Args:\n",
    "            df (pd.DataFrame)  : stock_price for a single SecuritiesCode\n",
    "        Returns:\n",
    "            df (pd.DataFrame): stock_price with AdjustedClose for a single SecuritiesCode\n",
    "        \"\"\"\n",
    "        # sort data to generate CumulativeAdjustmentFactor\n",
    "        df = df.sort_values(\"Date\", ascending=False)\n",
    "        # generate CumulativeAdjustmentFactor\n",
    "        df.loc[:, \"CumulativeAdjustmentFactor\"] = df[\"AdjustmentFactor\"].cumprod()\n",
    "        # generate AdjustedClose\n",
    "        df.loc[:, \"AdjustedClose\"] = (\n",
    "            df[\"CumulativeAdjustmentFactor\"] * df[\"Close\"]\n",
    "        ).map(lambda x: float(\n",
    "            Decimal(str(x)).quantize(Decimal('0.1'), rounding=ROUND_HALF_UP)\n",
    "        ))\n",
    "        # reverse order\n",
    "        df = df.sort_values(\"Date\")\n",
    "        # to fill AdjustedClose, replace 0 into np.nan\n",
    "        df.loc[df[\"AdjustedClose\"] == 0, \"AdjustedClose\"] = np.nan\n",
    "        # forward fill AdjustedClose\n",
    "        df.loc[:, \"AdjustedClose\"] = df.loc[:, \"AdjustedClose\"].ffill()\n",
    "        return df\n",
    "    \n",
    "    # generate AdjustedClose\n",
    "    price = price.sort_values([\"SecuritiesCode\", \"Date\"])\n",
    "    price = price.groupby(\"SecuritiesCode\").apply(generate_adjusted_close).reset_index(drop=True)\n",
    "    \n",
    "    price.drop(['AdjustmentFactor', 'Close', 'CumulativeAdjustmentFactor'], axis=1, inplace=True)\n",
    "    return price"
   ]
  },
  {
   "cell_type": "code",
   "execution_count": 22,
   "id": "56643412",
   "metadata": {},
   "outputs": [],
   "source": [
    "df_adj = adjust_price(df_prep)"
   ]
  },
  {
   "cell_type": "code",
   "execution_count": 23,
   "id": "80932f7a",
   "metadata": {},
   "outputs": [
    {
     "data": {
      "text/html": [
       "<div>\n",
       "<style scoped>\n",
       "    .dataframe tbody tr th:only-of-type {\n",
       "        vertical-align: middle;\n",
       "    }\n",
       "\n",
       "    .dataframe tbody tr th {\n",
       "        vertical-align: top;\n",
       "    }\n",
       "\n",
       "    .dataframe thead th {\n",
       "        text-align: right;\n",
       "    }\n",
       "</style>\n",
       "<table border=\"1\" class=\"dataframe\">\n",
       "  <thead>\n",
       "    <tr style=\"text-align: right;\">\n",
       "      <th></th>\n",
       "      <th>Date</th>\n",
       "      <th>SecuritiesCode</th>\n",
       "      <th>Open</th>\n",
       "      <th>High</th>\n",
       "      <th>Low</th>\n",
       "      <th>Volume</th>\n",
       "      <th>Target</th>\n",
       "      <th>AdjustedClose</th>\n",
       "    </tr>\n",
       "  </thead>\n",
       "  <tbody>\n",
       "    <tr>\n",
       "      <th>0</th>\n",
       "      <td>2017-01-04</td>\n",
       "      <td>1301</td>\n",
       "      <td>2734.0</td>\n",
       "      <td>2755.0</td>\n",
       "      <td>2730.0</td>\n",
       "      <td>31400</td>\n",
       "      <td>0.000730</td>\n",
       "      <td>2742.0</td>\n",
       "    </tr>\n",
       "    <tr>\n",
       "      <th>1</th>\n",
       "      <td>2017-01-05</td>\n",
       "      <td>1301</td>\n",
       "      <td>2743.0</td>\n",
       "      <td>2747.0</td>\n",
       "      <td>2735.0</td>\n",
       "      <td>17900</td>\n",
       "      <td>0.002920</td>\n",
       "      <td>2738.0</td>\n",
       "    </tr>\n",
       "    <tr>\n",
       "      <th>2</th>\n",
       "      <td>2017-01-06</td>\n",
       "      <td>1301</td>\n",
       "      <td>2734.0</td>\n",
       "      <td>2744.0</td>\n",
       "      <td>2720.0</td>\n",
       "      <td>19900</td>\n",
       "      <td>-0.001092</td>\n",
       "      <td>2740.0</td>\n",
       "    </tr>\n",
       "    <tr>\n",
       "      <th>3</th>\n",
       "      <td>2017-01-10</td>\n",
       "      <td>1301</td>\n",
       "      <td>2745.0</td>\n",
       "      <td>2754.0</td>\n",
       "      <td>2735.0</td>\n",
       "      <td>24200</td>\n",
       "      <td>-0.005100</td>\n",
       "      <td>2748.0</td>\n",
       "    </tr>\n",
       "    <tr>\n",
       "      <th>4</th>\n",
       "      <td>2017-01-11</td>\n",
       "      <td>1301</td>\n",
       "      <td>2748.0</td>\n",
       "      <td>2752.0</td>\n",
       "      <td>2737.0</td>\n",
       "      <td>9300</td>\n",
       "      <td>-0.003295</td>\n",
       "      <td>2745.0</td>\n",
       "    </tr>\n",
       "  </tbody>\n",
       "</table>\n",
       "</div>"
      ],
      "text/plain": [
       "        Date  SecuritiesCode    Open    High     Low  Volume    Target  \\\n",
       "0 2017-01-04            1301  2734.0  2755.0  2730.0   31400  0.000730   \n",
       "1 2017-01-05            1301  2743.0  2747.0  2735.0   17900  0.002920   \n",
       "2 2017-01-06            1301  2734.0  2744.0  2720.0   19900 -0.001092   \n",
       "3 2017-01-10            1301  2745.0  2754.0  2735.0   24200 -0.005100   \n",
       "4 2017-01-11            1301  2748.0  2752.0  2737.0    9300 -0.003295   \n",
       "\n",
       "   AdjustedClose  \n",
       "0         2742.0  \n",
       "1         2738.0  \n",
       "2         2740.0  \n",
       "3         2748.0  \n",
       "4         2745.0  "
      ]
     },
     "execution_count": 23,
     "metadata": {},
     "output_type": "execute_result"
    }
   ],
   "source": [
    "df_adj.head()"
   ]
  },
  {
   "cell_type": "code",
   "execution_count": 24,
   "id": "c58b4c8f",
   "metadata": {},
   "outputs": [],
   "source": [
    "df_adj = df_adj[['Date', 'SecuritiesCode', 'Open', 'High', 'Low', 'AdjustedClose', 'Volume', 'Target']]"
   ]
  },
  {
   "cell_type": "code",
   "execution_count": 25,
   "id": "1495e681",
   "metadata": {},
   "outputs": [
    {
     "data": {
      "text/html": [
       "<div>\n",
       "<style scoped>\n",
       "    .dataframe tbody tr th:only-of-type {\n",
       "        vertical-align: middle;\n",
       "    }\n",
       "\n",
       "    .dataframe tbody tr th {\n",
       "        vertical-align: top;\n",
       "    }\n",
       "\n",
       "    .dataframe thead th {\n",
       "        text-align: right;\n",
       "    }\n",
       "</style>\n",
       "<table border=\"1\" class=\"dataframe\">\n",
       "  <thead>\n",
       "    <tr style=\"text-align: right;\">\n",
       "      <th></th>\n",
       "      <th>Date</th>\n",
       "      <th>SecuritiesCode</th>\n",
       "      <th>Open</th>\n",
       "      <th>High</th>\n",
       "      <th>Low</th>\n",
       "      <th>AdjustedClose</th>\n",
       "      <th>Volume</th>\n",
       "      <th>Target</th>\n",
       "    </tr>\n",
       "  </thead>\n",
       "  <tbody>\n",
       "    <tr>\n",
       "      <th>0</th>\n",
       "      <td>2017-01-04</td>\n",
       "      <td>1301</td>\n",
       "      <td>2734.0</td>\n",
       "      <td>2755.0</td>\n",
       "      <td>2730.0</td>\n",
       "      <td>2742.0</td>\n",
       "      <td>31400</td>\n",
       "      <td>0.000730</td>\n",
       "    </tr>\n",
       "    <tr>\n",
       "      <th>1</th>\n",
       "      <td>2017-01-05</td>\n",
       "      <td>1301</td>\n",
       "      <td>2743.0</td>\n",
       "      <td>2747.0</td>\n",
       "      <td>2735.0</td>\n",
       "      <td>2738.0</td>\n",
       "      <td>17900</td>\n",
       "      <td>0.002920</td>\n",
       "    </tr>\n",
       "    <tr>\n",
       "      <th>2</th>\n",
       "      <td>2017-01-06</td>\n",
       "      <td>1301</td>\n",
       "      <td>2734.0</td>\n",
       "      <td>2744.0</td>\n",
       "      <td>2720.0</td>\n",
       "      <td>2740.0</td>\n",
       "      <td>19900</td>\n",
       "      <td>-0.001092</td>\n",
       "    </tr>\n",
       "    <tr>\n",
       "      <th>3</th>\n",
       "      <td>2017-01-10</td>\n",
       "      <td>1301</td>\n",
       "      <td>2745.0</td>\n",
       "      <td>2754.0</td>\n",
       "      <td>2735.0</td>\n",
       "      <td>2748.0</td>\n",
       "      <td>24200</td>\n",
       "      <td>-0.005100</td>\n",
       "    </tr>\n",
       "    <tr>\n",
       "      <th>4</th>\n",
       "      <td>2017-01-11</td>\n",
       "      <td>1301</td>\n",
       "      <td>2748.0</td>\n",
       "      <td>2752.0</td>\n",
       "      <td>2737.0</td>\n",
       "      <td>2745.0</td>\n",
       "      <td>9300</td>\n",
       "      <td>-0.003295</td>\n",
       "    </tr>\n",
       "  </tbody>\n",
       "</table>\n",
       "</div>"
      ],
      "text/plain": [
       "        Date  SecuritiesCode    Open    High     Low  AdjustedClose  Volume  \\\n",
       "0 2017-01-04            1301  2734.0  2755.0  2730.0         2742.0   31400   \n",
       "1 2017-01-05            1301  2743.0  2747.0  2735.0         2738.0   17900   \n",
       "2 2017-01-06            1301  2734.0  2744.0  2720.0         2740.0   19900   \n",
       "3 2017-01-10            1301  2745.0  2754.0  2735.0         2748.0   24200   \n",
       "4 2017-01-11            1301  2748.0  2752.0  2737.0         2745.0    9300   \n",
       "\n",
       "     Target  \n",
       "0  0.000730  \n",
       "1  0.002920  \n",
       "2 -0.001092  \n",
       "3 -0.005100  \n",
       "4 -0.003295  "
      ]
     },
     "execution_count": 25,
     "metadata": {},
     "output_type": "execute_result"
    }
   ],
   "source": [
    "df_adj.head()"
   ]
  },
  {
   "cell_type": "code",
   "execution_count": 26,
   "id": "aec5a1b7",
   "metadata": {},
   "outputs": [
    {
     "name": "stdout",
     "output_type": "stream",
     "text": [
      "<class 'pandas.core.frame.DataFrame'>\n",
      "RangeIndex: 2520321 entries, 0 to 2520320\n",
      "Data columns (total 8 columns):\n",
      " #   Column          Non-Null Count    Dtype         \n",
      "---  ------          --------------    -----         \n",
      " 0   Date            2520321 non-null  datetime64[ns]\n",
      " 1   SecuritiesCode  2520321 non-null  int64         \n",
      " 2   Open            2520321 non-null  float64       \n",
      " 3   High            2520321 non-null  float64       \n",
      " 4   Low             2520321 non-null  float64       \n",
      " 5   AdjustedClose   2520321 non-null  float64       \n",
      " 6   Volume          2520321 non-null  int64         \n",
      " 7   Target          2520321 non-null  float64       \n",
      "dtypes: datetime64[ns](1), float64(5), int64(2)\n",
      "memory usage: 153.8 MB\n"
     ]
    }
   ],
   "source": [
    "df_adj.info(show_counts=True)"
   ]
  },
  {
   "cell_type": "markdown",
   "id": "31ac837d",
   "metadata": {},
   "source": [
    "# Split the data without any data leakage"
   ]
  },
  {
   "cell_type": "markdown",
   "id": "be4b4ab6",
   "metadata": {},
   "source": [
    "The target is calculated on the adjusted close of the next two days"
   ]
  },
  {
   "cell_type": "markdown",
   "id": "5483c708",
   "metadata": {},
   "source": [
    "Instead of using the TimeSeriesSplit from Sklearn a custom validation set way created"
   ]
  },
  {
   "cell_type": "code",
   "execution_count": 27,
   "id": "80fbedf9",
   "metadata": {},
   "outputs": [],
   "source": [
    "def train_test_split(DF):\n",
    "    df = DF.copy()\n",
    "    \n",
    "    df['Date'] = df['Date'].dt.strftime('%Y-%m-%d')  # datetime to str\n",
    "    \n",
    "    days = len(df['Date'].unique()) #  number of days\n",
    "    \n",
    "    day_values = list(df['Date'].unique()) #  day values\n",
    "    \n",
    "    test_1_min = 0 #  splitting based on date values (80/20)\n",
    "    test_1_max = int(days * 0.06)  # first 6% for validation\n",
    "    train_1_min = test_1_max + 3  # 2 days skipped (no leak)\n",
    "    train_1_max = int(days * 0.46)  # next 40% for training\n",
    "    test_2_min = train_1_max + 3  # ...\n",
    "    test_2_max = int(days * 0.53)\n",
    "    train_2_min = test_2_max + 3\n",
    "    train_2_max = int(days * 0.93)\n",
    "    test_3_min = train_2_max + 3\n",
    "    test_3_max = int(days) - 1\n",
    "    \n",
    "    test_1 = day_values[test_1_min:test_1_max]  # assigning the date values\n",
    "    test_2 = day_values[test_2_min:test_2_max]\n",
    "    test_3 = day_values[test_3_min:test_3_max]\n",
    "    \n",
    "    train_1 = day_values[train_1_min:train_1_max]\n",
    "    train_2 = day_values[train_2_min:train_2_max]\n",
    "    \n",
    "    df_test_1 = df[df['Date'].str.contains('|'.join(test_1))]  # creating the datasets based on date-values\n",
    "    df_test_2 = df[df['Date'].str.contains('|'.join(test_2))]\n",
    "    df_test_3 = df[df['Date'].str.contains('|'.join(test_3))]\n",
    "    \n",
    "    df_train_1 = df[df['Date'].str.contains('|'.join(train_1))]\n",
    "    df_train_2 = df[df['Date'].str.contains('|'.join(train_2))]\n",
    "    \n",
    "    df_test = pd.concat([df_test_1, df_test_2, df_test_3], axis=0)  # adding them to one df\n",
    "    df_train = pd.concat([df_train_1, df_train_2], axis=0)\n",
    "    \n",
    "    \n",
    "    return df_train, df_test"
   ]
  },
  {
   "cell_type": "code",
   "execution_count": 28,
   "id": "33dfbb1a",
   "metadata": {},
   "outputs": [],
   "source": [
    "df_train, df_test = train_test_split(DF=df_adj)"
   ]
  },
  {
   "cell_type": "code",
   "execution_count": 29,
   "id": "237fb73d",
   "metadata": {},
   "outputs": [
    {
     "name": "stdout",
     "output_type": "stream",
     "text": [
      "Length of the train df: 2007395\n",
      "\n",
      "Length of the test df: 487676\n"
     ]
    }
   ],
   "source": [
    "print(f'Length of the train df: {len(df_train)}\\n\\nLength of the test df: {len(df_test)}')"
   ]
  },
  {
   "cell_type": "markdown",
   "id": "53f19d70",
   "metadata": {},
   "source": [
    "Multible Hyperparameters were tested in another notebook but none improved the performance "
   ]
  },
  {
   "cell_type": "markdown",
   "id": "534cc5dc",
   "metadata": {},
   "source": [
    "# Scaling the data without leakage"
   ]
  },
  {
   "cell_type": "markdown",
   "id": "273ea88f",
   "metadata": {},
   "source": [
    "The data should be scaled with data only available at the time"
   ]
  },
  {
   "cell_type": "markdown",
   "id": "403c33c4",
   "metadata": {},
   "source": [
    "A function was created to Standardize the traindata by iterating over the (sorted) dates"
   ]
  },
  {
   "cell_type": "code",
   "execution_count": 30,
   "id": "d880ce87",
   "metadata": {},
   "outputs": [
    {
     "data": {
      "text/plain": [
       "1034"
      ]
     },
     "execution_count": 30,
     "metadata": {},
     "output_type": "execute_result"
    }
   ],
   "source": [
    "len(df_train['Date'].unique())"
   ]
  },
  {
   "cell_type": "code",
   "execution_count": 31,
   "id": "afc3db16",
   "metadata": {},
   "outputs": [],
   "source": [
    "def rolling_scale(data):\n",
    "    df = data.copy()\n",
    "    \n",
    "    features = ['Open', 'High', 'Low', 'AdjustedClose', 'Volume']  # features to scale\n",
    "    avg_features = [i + '_AVG' for i in features]  # mean to calculate the z-values\n",
    "    std_features = [i + '_STD' for i in features]  # standard deviation to \"\n",
    "    \n",
    "    new_columns = avg_features + std_features\n",
    "    help_df = pd.DataFrame(columns=new_columns)  # empty df with the new needed columns\n",
    "    df = pd.concat([df, help_df], axis=1)\n",
    "    df = df.sort_values(['Date', 'SecuritiesCode']).reset_index(drop=True)\n",
    "    \n",
    "    dates = list(df['Date'].unique())  # all date values\n",
    "    \n",
    "    for feature, avg, std in zip(features, avg_features, std_features):  # iterate over all cols to be scaled\n",
    "        for date, index_day in zip(dates, range(len(dates))):  # iterate over the dates (first -> last)\n",
    "            if index_day % 100 == 0:  # print the progress every 100 scaled days\n",
    "                print(f'Feature: {feature}; Day: {index_day}')  # print to spot progress\n",
    "            if index_day == 0:  # for first day\n",
    "                index = df[df['Date']==date].index  # index of the date\n",
    "                index_start = int(index[0])\n",
    "                index_end = int(index[-1])\n",
    "                df.loc[index_start:index_end, avg] = df[feature][df['Date']==date].mean()\n",
    "                df.loc[index_start:index_end, std] = df[feature][df['Date']==date].std()\n",
    "            else:  # more then 1 day\n",
    "                index = df[df['Date']==date].index\n",
    "                index_start = int(index[0])\n",
    "                index_end = int(index[-1])\n",
    "                days = dates[0:index_day]  # more then 1 value -> mean/std of all previous & current day\n",
    "                filt = df['Date'].str.contains('|'.join(days))  # only df with the given days\n",
    "                df.loc[index_start:index_end, avg] = df[feature][filt].mean()\n",
    "                df.loc[index_start:index_end, std] = df[feature][filt].std()\n",
    "            \n",
    "    return df"
   ]
  },
  {
   "cell_type": "code",
   "execution_count": 32,
   "id": "3eba2e62",
   "metadata": {},
   "outputs": [
    {
     "name": "stdout",
     "output_type": "stream",
     "text": [
      "Feature: Open; Day: 0\n",
      "Feature: Open; Day: 100\n",
      "Feature: Open; Day: 200\n",
      "Feature: Open; Day: 300\n",
      "Feature: Open; Day: 400\n",
      "Feature: Open; Day: 500\n",
      "Feature: Open; Day: 600\n",
      "Feature: Open; Day: 700\n",
      "Feature: Open; Day: 800\n",
      "Feature: Open; Day: 900\n",
      "Feature: Open; Day: 1000\n",
      "Feature: High; Day: 0\n",
      "Feature: High; Day: 100\n",
      "Feature: High; Day: 200\n",
      "Feature: High; Day: 300\n",
      "Feature: High; Day: 400\n",
      "Feature: High; Day: 500\n",
      "Feature: High; Day: 600\n",
      "Feature: High; Day: 700\n",
      "Feature: High; Day: 800\n",
      "Feature: High; Day: 900\n",
      "Feature: High; Day: 1000\n",
      "Feature: Low; Day: 0\n",
      "Feature: Low; Day: 100\n",
      "Feature: Low; Day: 200\n",
      "Feature: Low; Day: 300\n",
      "Feature: Low; Day: 400\n",
      "Feature: Low; Day: 500\n",
      "Feature: Low; Day: 600\n",
      "Feature: Low; Day: 700\n",
      "Feature: Low; Day: 800\n",
      "Feature: Low; Day: 900\n",
      "Feature: Low; Day: 1000\n",
      "Feature: AdjustedClose; Day: 0\n",
      "Feature: AdjustedClose; Day: 100\n",
      "Feature: AdjustedClose; Day: 200\n",
      "Feature: AdjustedClose; Day: 300\n",
      "Feature: AdjustedClose; Day: 400\n",
      "Feature: AdjustedClose; Day: 500\n",
      "Feature: AdjustedClose; Day: 600\n",
      "Feature: AdjustedClose; Day: 700\n",
      "Feature: AdjustedClose; Day: 800\n",
      "Feature: AdjustedClose; Day: 900\n",
      "Feature: AdjustedClose; Day: 1000\n",
      "Feature: Volume; Day: 0\n",
      "Feature: Volume; Day: 100\n",
      "Feature: Volume; Day: 200\n",
      "Feature: Volume; Day: 300\n",
      "Feature: Volume; Day: 400\n",
      "Feature: Volume; Day: 500\n",
      "Feature: Volume; Day: 600\n",
      "Feature: Volume; Day: 700\n",
      "Feature: Volume; Day: 800\n",
      "Feature: Volume; Day: 900\n",
      "Feature: Volume; Day: 1000\n",
      "CPU times: user 4h 3min 52s, sys: 641 ms, total: 4h 3min 53s\n",
      "Wall time: 4h 3min 54s\n"
     ]
    }
   ],
   "source": [
    "%%time\n",
    "train_df_scaled = rolling_scale(data=df_train)"
   ]
  },
  {
   "cell_type": "markdown",
   "id": "a1d2fdb9",
   "metadata": {},
   "source": [
    "Create a dataframe with only the necessary columns"
   ]
  },
  {
   "cell_type": "code",
   "execution_count": 33,
   "id": "c7f1dbee",
   "metadata": {},
   "outputs": [
    {
     "data": {
      "text/html": [
       "<div>\n",
       "<style scoped>\n",
       "    .dataframe tbody tr th:only-of-type {\n",
       "        vertical-align: middle;\n",
       "    }\n",
       "\n",
       "    .dataframe tbody tr th {\n",
       "        vertical-align: top;\n",
       "    }\n",
       "\n",
       "    .dataframe thead th {\n",
       "        text-align: right;\n",
       "    }\n",
       "</style>\n",
       "<table border=\"1\" class=\"dataframe\">\n",
       "  <thead>\n",
       "    <tr style=\"text-align: right;\">\n",
       "      <th></th>\n",
       "      <th>Date</th>\n",
       "      <th>SecuritiesCode</th>\n",
       "      <th>Open</th>\n",
       "      <th>High</th>\n",
       "      <th>Low</th>\n",
       "      <th>AdjustedClose</th>\n",
       "      <th>Volume</th>\n",
       "      <th>Target</th>\n",
       "      <th>Open_AVG</th>\n",
       "      <th>High_AVG</th>\n",
       "      <th>Low_AVG</th>\n",
       "      <th>AdjustedClose_AVG</th>\n",
       "      <th>Volume_AVG</th>\n",
       "      <th>Open_STD</th>\n",
       "      <th>High_STD</th>\n",
       "      <th>Low_STD</th>\n",
       "      <th>AdjustedClose_STD</th>\n",
       "      <th>Volume_STD</th>\n",
       "    </tr>\n",
       "  </thead>\n",
       "  <tbody>\n",
       "    <tr>\n",
       "      <th>0</th>\n",
       "      <td>2017-04-28</td>\n",
       "      <td>1301</td>\n",
       "      <td>2939.0</td>\n",
       "      <td>2953.0</td>\n",
       "      <td>2922.0</td>\n",
       "      <td>2935.0</td>\n",
       "      <td>23400</td>\n",
       "      <td>0.003407</td>\n",
       "      <td>2134.988377</td>\n",
       "      <td>2153.455222</td>\n",
       "      <td>2110.645367</td>\n",
       "      <td>2106.994912</td>\n",
       "      <td>975507.337975</td>\n",
       "      <td>2652.28775</td>\n",
       "      <td>2675.519077</td>\n",
       "      <td>2629.240462</td>\n",
       "      <td>2282.825559</td>\n",
       "      <td>4479619.71523</td>\n",
       "    </tr>\n",
       "    <tr>\n",
       "      <th>1</th>\n",
       "      <td>2017-04-28</td>\n",
       "      <td>1332</td>\n",
       "      <td>544.0</td>\n",
       "      <td>545.0</td>\n",
       "      <td>537.0</td>\n",
       "      <td>537.0</td>\n",
       "      <td>1639900</td>\n",
       "      <td>0.001845</td>\n",
       "      <td>2134.988377</td>\n",
       "      <td>2153.455222</td>\n",
       "      <td>2110.645367</td>\n",
       "      <td>2106.994912</td>\n",
       "      <td>975507.337975</td>\n",
       "      <td>2652.28775</td>\n",
       "      <td>2675.519077</td>\n",
       "      <td>2629.240462</td>\n",
       "      <td>2282.825559</td>\n",
       "      <td>4479619.71523</td>\n",
       "    </tr>\n",
       "    <tr>\n",
       "      <th>2</th>\n",
       "      <td>2017-04-28</td>\n",
       "      <td>1333</td>\n",
       "      <td>3175.0</td>\n",
       "      <td>3225.0</td>\n",
       "      <td>3150.0</td>\n",
       "      <td>3185.0</td>\n",
       "      <td>343300</td>\n",
       "      <td>0.012698</td>\n",
       "      <td>2134.988377</td>\n",
       "      <td>2153.455222</td>\n",
       "      <td>2110.645367</td>\n",
       "      <td>2106.994912</td>\n",
       "      <td>975507.337975</td>\n",
       "      <td>2652.28775</td>\n",
       "      <td>2675.519077</td>\n",
       "      <td>2629.240462</td>\n",
       "      <td>2282.825559</td>\n",
       "      <td>4479619.71523</td>\n",
       "    </tr>\n",
       "    <tr>\n",
       "      <th>3</th>\n",
       "      <td>2017-04-28</td>\n",
       "      <td>1376</td>\n",
       "      <td>1454.0</td>\n",
       "      <td>1454.0</td>\n",
       "      <td>1429.0</td>\n",
       "      <td>1429.0</td>\n",
       "      <td>6000</td>\n",
       "      <td>0.006237</td>\n",
       "      <td>2134.988377</td>\n",
       "      <td>2153.455222</td>\n",
       "      <td>2110.645367</td>\n",
       "      <td>2106.994912</td>\n",
       "      <td>975507.337975</td>\n",
       "      <td>2652.28775</td>\n",
       "      <td>2675.519077</td>\n",
       "      <td>2629.240462</td>\n",
       "      <td>2282.825559</td>\n",
       "      <td>4479619.71523</td>\n",
       "    </tr>\n",
       "    <tr>\n",
       "      <th>4</th>\n",
       "      <td>2017-04-28</td>\n",
       "      <td>1377</td>\n",
       "      <td>3545.0</td>\n",
       "      <td>3560.0</td>\n",
       "      <td>3500.0</td>\n",
       "      <td>3515.0</td>\n",
       "      <td>122300</td>\n",
       "      <td>-0.025788</td>\n",
       "      <td>2134.988377</td>\n",
       "      <td>2153.455222</td>\n",
       "      <td>2110.645367</td>\n",
       "      <td>2106.994912</td>\n",
       "      <td>975507.337975</td>\n",
       "      <td>2652.28775</td>\n",
       "      <td>2675.519077</td>\n",
       "      <td>2629.240462</td>\n",
       "      <td>2282.825559</td>\n",
       "      <td>4479619.71523</td>\n",
       "    </tr>\n",
       "  </tbody>\n",
       "</table>\n",
       "</div>"
      ],
      "text/plain": [
       "         Date  SecuritiesCode    Open    High     Low  AdjustedClose   Volume  \\\n",
       "0  2017-04-28            1301  2939.0  2953.0  2922.0         2935.0    23400   \n",
       "1  2017-04-28            1332   544.0   545.0   537.0          537.0  1639900   \n",
       "2  2017-04-28            1333  3175.0  3225.0  3150.0         3185.0   343300   \n",
       "3  2017-04-28            1376  1454.0  1454.0  1429.0         1429.0     6000   \n",
       "4  2017-04-28            1377  3545.0  3560.0  3500.0         3515.0   122300   \n",
       "\n",
       "     Target     Open_AVG     High_AVG      Low_AVG AdjustedClose_AVG  \\\n",
       "0  0.003407  2134.988377  2153.455222  2110.645367       2106.994912   \n",
       "1  0.001845  2134.988377  2153.455222  2110.645367       2106.994912   \n",
       "2  0.012698  2134.988377  2153.455222  2110.645367       2106.994912   \n",
       "3  0.006237  2134.988377  2153.455222  2110.645367       2106.994912   \n",
       "4 -0.025788  2134.988377  2153.455222  2110.645367       2106.994912   \n",
       "\n",
       "      Volume_AVG    Open_STD     High_STD      Low_STD AdjustedClose_STD  \\\n",
       "0  975507.337975  2652.28775  2675.519077  2629.240462       2282.825559   \n",
       "1  975507.337975  2652.28775  2675.519077  2629.240462       2282.825559   \n",
       "2  975507.337975  2652.28775  2675.519077  2629.240462       2282.825559   \n",
       "3  975507.337975  2652.28775  2675.519077  2629.240462       2282.825559   \n",
       "4  975507.337975  2652.28775  2675.519077  2629.240462       2282.825559   \n",
       "\n",
       "      Volume_STD  \n",
       "0  4479619.71523  \n",
       "1  4479619.71523  \n",
       "2  4479619.71523  \n",
       "3  4479619.71523  \n",
       "4  4479619.71523  "
      ]
     },
     "execution_count": 33,
     "metadata": {},
     "output_type": "execute_result"
    }
   ],
   "source": [
    "train_df_scaled.head()"
   ]
  },
  {
   "cell_type": "code",
   "execution_count": 46,
   "id": "157f4671",
   "metadata": {},
   "outputs": [],
   "source": [
    "def create_scaled_df_from_cols(data):\n",
    "    df = data.copy()\n",
    "    \n",
    "    features = ['Open', 'High', 'Low', 'AdjustedClose', 'Volume']\n",
    "    avg_features = [i + '_AVG' for i in features]\n",
    "    std_features = [i + '_STD' for i in features]\n",
    "    \n",
    "    features_scaled = [i + '_scaled' for i in features]\n",
    "    \n",
    "    for feature, avg, std, scaled in zip(features, avg_features, std_features, features_scaled):\n",
    "        df[scaled] = (df[feature] - df[avg]) / df[std]  # standardize\n",
    "    \n",
    "    new_df = df[features_scaled]\n",
    "    new_df[['Date', 'SecuritiesCode', 'Target']] = df[['Date', 'SecuritiesCode', 'Target']]  # keep other cols\n",
    "    \n",
    "    for old_name, new_name in zip(features_scaled, features):  # rename as feautres\n",
    "        new_df.rename(columns={old_name: new_name}, inplace=True)\n",
    "    \n",
    "    new_df = new_df[['Date', 'SecuritiesCode', 'Open', 'High', 'Low', 'AdjustedClose', 'Volume', 'Target']]\n",
    "    \n",
    "    return new_df"
   ]
  },
  {
   "cell_type": "code",
   "execution_count": 47,
   "id": "40170d0e",
   "metadata": {},
   "outputs": [],
   "source": [
    "train_scaled = create_scaled_df_from_cols(data=train_df_scaled)"
   ]
  },
  {
   "cell_type": "code",
   "execution_count": 48,
   "id": "74178cfc",
   "metadata": {},
   "outputs": [
    {
     "data": {
      "text/html": [
       "<div>\n",
       "<style scoped>\n",
       "    .dataframe tbody tr th:only-of-type {\n",
       "        vertical-align: middle;\n",
       "    }\n",
       "\n",
       "    .dataframe tbody tr th {\n",
       "        vertical-align: top;\n",
       "    }\n",
       "\n",
       "    .dataframe thead th {\n",
       "        text-align: right;\n",
       "    }\n",
       "</style>\n",
       "<table border=\"1\" class=\"dataframe\">\n",
       "  <thead>\n",
       "    <tr style=\"text-align: right;\">\n",
       "      <th></th>\n",
       "      <th>Date</th>\n",
       "      <th>SecuritiesCode</th>\n",
       "      <th>Open</th>\n",
       "      <th>High</th>\n",
       "      <th>Low</th>\n",
       "      <th>AdjustedClose</th>\n",
       "      <th>Volume</th>\n",
       "      <th>Target</th>\n",
       "    </tr>\n",
       "  </thead>\n",
       "  <tbody>\n",
       "    <tr>\n",
       "      <th>0</th>\n",
       "      <td>2017-04-28</td>\n",
       "      <td>1301</td>\n",
       "      <td>0.303139</td>\n",
       "      <td>0.298837</td>\n",
       "      <td>0.308589</td>\n",
       "      <td>0.362711</td>\n",
       "      <td>-0.212542</td>\n",
       "      <td>0.003407</td>\n",
       "    </tr>\n",
       "    <tr>\n",
       "      <th>1</th>\n",
       "      <td>2017-04-28</td>\n",
       "      <td>1332</td>\n",
       "      <td>-0.599855</td>\n",
       "      <td>-0.601175</td>\n",
       "      <td>-0.598517</td>\n",
       "      <td>-0.687742</td>\n",
       "      <td>0.148315</td>\n",
       "      <td>0.001845</td>\n",
       "    </tr>\n",
       "    <tr>\n",
       "      <th>2</th>\n",
       "      <td>2017-04-28</td>\n",
       "      <td>1333</td>\n",
       "      <td>0.392119</td>\n",
       "      <td>0.4005</td>\n",
       "      <td>0.395306</td>\n",
       "      <td>0.472224</td>\n",
       "      <td>-0.14113</td>\n",
       "      <td>0.012698</td>\n",
       "    </tr>\n",
       "    <tr>\n",
       "      <th>3</th>\n",
       "      <td>2017-04-28</td>\n",
       "      <td>1376</td>\n",
       "      <td>-0.256755</td>\n",
       "      <td>-0.261428</td>\n",
       "      <td>-0.259256</td>\n",
       "      <td>-0.296998</td>\n",
       "      <td>-0.216426</td>\n",
       "      <td>0.006237</td>\n",
       "    </tr>\n",
       "    <tr>\n",
       "      <th>4</th>\n",
       "      <td>2017-04-28</td>\n",
       "      <td>1377</td>\n",
       "      <td>0.531621</td>\n",
       "      <td>0.525709</td>\n",
       "      <td>0.528424</td>\n",
       "      <td>0.616782</td>\n",
       "      <td>-0.190464</td>\n",
       "      <td>-0.025788</td>\n",
       "    </tr>\n",
       "  </tbody>\n",
       "</table>\n",
       "</div>"
      ],
      "text/plain": [
       "         Date  SecuritiesCode      Open      High       Low AdjustedClose  \\\n",
       "0  2017-04-28            1301  0.303139  0.298837  0.308589      0.362711   \n",
       "1  2017-04-28            1332 -0.599855 -0.601175 -0.598517     -0.687742   \n",
       "2  2017-04-28            1333  0.392119    0.4005  0.395306      0.472224   \n",
       "3  2017-04-28            1376 -0.256755 -0.261428 -0.259256     -0.296998   \n",
       "4  2017-04-28            1377  0.531621  0.525709  0.528424      0.616782   \n",
       "\n",
       "     Volume    Target  \n",
       "0 -0.212542  0.003407  \n",
       "1  0.148315  0.001845  \n",
       "2  -0.14113  0.012698  \n",
       "3 -0.216426  0.006237  \n",
       "4 -0.190464 -0.025788  "
      ]
     },
     "execution_count": 48,
     "metadata": {},
     "output_type": "execute_result"
    }
   ],
   "source": [
    "train_scaled.head()"
   ]
  },
  {
   "cell_type": "markdown",
   "id": "1a27354d",
   "metadata": {},
   "source": [
    "The test data can be scaled by a standardscaler fitted in the train data"
   ]
  },
  {
   "cell_type": "code",
   "execution_count": 52,
   "id": "d10d6f0e",
   "metadata": {},
   "outputs": [
    {
     "data": {
      "text/plain": [
       "ColumnTransformer(transformers=[('Standardize', StandardScaler(),\n",
       "                                 ['Open', 'High', 'Low', 'AdjustedClose',\n",
       "                                  'Volume'])])"
      ]
     },
     "execution_count": 52,
     "metadata": {},
     "output_type": "execute_result"
    }
   ],
   "source": [
    "features = ['Open', 'High', 'Low', 'AdjustedClose', 'Volume']\n",
    "scaler = ColumnTransformer([('Standardize', StandardScaler(), features)])\n",
    "scaler.fit(df_train[features])"
   ]
  },
  {
   "cell_type": "code",
   "execution_count": 55,
   "id": "4d0bfa8c",
   "metadata": {},
   "outputs": [],
   "source": [
    "DIR = 'JPX_Preprocessing'\n",
    "if not os.path.exists(DIR):\n",
    "    os.mkdir(DIR)"
   ]
  },
  {
   "cell_type": "code",
   "execution_count": 56,
   "id": "afcff176",
   "metadata": {},
   "outputs": [
    {
     "data": {
      "text/plain": [
       "['JPX_Preprocessing/scaler_test.joblib']"
      ]
     },
     "execution_count": 56,
     "metadata": {},
     "output_type": "execute_result"
    }
   ],
   "source": [
    "scaler_path = os.path.join(DIR, 'scaler_test.joblib')\n",
    "joblib.dump(scaler, scaler_path)"
   ]
  },
  {
   "cell_type": "markdown",
   "id": "0db92ed0",
   "metadata": {},
   "source": [
    "## Create final data sets as numpy array & save with pickle"
   ]
  },
  {
   "cell_type": "code",
   "execution_count": 61,
   "id": "c31c4ac9",
   "metadata": {},
   "outputs": [],
   "source": [
    "def create_final_train_data(data):\n",
    "    df = data.copy()\n",
    "    \n",
    "    df = df.sample(frac=1).reset_index(drop=True)  # shuffle the training data\n",
    "    \n",
    "    stocks = df.pop('SecuritiesCode')  # stocks will be fed into a NN separately\n",
    "    y = df.pop('Target')\n",
    "    X = df.drop('Date', axis=1)\n",
    "    \n",
    "    stocks_array = np.array(stocks).astype('int16')\n",
    "    X_array = np.array(X).astype('float32')\n",
    "    y_array = np.array(y).astype('float32')\n",
    "    \n",
    "    return stocks_array, X_array, y_array"
   ]
  },
  {
   "cell_type": "code",
   "execution_count": 69,
   "id": "da81be44",
   "metadata": {},
   "outputs": [],
   "source": [
    "stocks_train, X_train, y_train = create_final_train_data(data=train_scaled)"
   ]
  },
  {
   "cell_type": "markdown",
   "id": "dfb4ce98",
   "metadata": {},
   "source": [
    "Train data was allready scaled; Test data must be scaled using the scaller fitted above"
   ]
  },
  {
   "cell_type": "code",
   "execution_count": 70,
   "id": "7a60733b",
   "metadata": {},
   "outputs": [],
   "source": [
    "def create_final_test_data(data, scaler):\n",
    "    df = data.copy()\n",
    "    \n",
    "    stocks = df.pop('SecuritiesCode')\n",
    "    y = df.pop('Target')\n",
    "    X = df.drop('Date', axis=1)\n",
    "    \n",
    "    X_scaled = scaler.transform(X).astype('float32')\n",
    "    stocks_array = np.array(stocks).astype('int16')\n",
    "    y_array = np.array(y).astype('float32')\n",
    "    \n",
    "    return stocks_array, X_scaled, y_array"
   ]
  },
  {
   "cell_type": "code",
   "execution_count": 71,
   "id": "e49edbf3",
   "metadata": {},
   "outputs": [],
   "source": [
    "stocks_test, X_test, y_test = create_final_test_data(data=df_test, scaler=scaler)"
   ]
  },
  {
   "cell_type": "code",
   "execution_count": 72,
   "id": "2fa141a5",
   "metadata": {},
   "outputs": [
    {
     "name": "stdout",
     "output_type": "stream",
     "text": [
      "(2007395,) (2007395, 5) (2007395,)\n"
     ]
    }
   ],
   "source": [
    "print(stocks_train.shape, X_train.shape, y_train.shape)"
   ]
  },
  {
   "cell_type": "code",
   "execution_count": 73,
   "id": "172de8c3",
   "metadata": {},
   "outputs": [
    {
     "name": "stdout",
     "output_type": "stream",
     "text": [
      "(487676,) (487676, 5) (487676,)\n"
     ]
    }
   ],
   "source": [
    "print(stocks_test.shape, X_test.shape, y_test.shape)"
   ]
  },
  {
   "cell_type": "markdown",
   "id": "10b519b8",
   "metadata": {},
   "source": [
    "### Save the data"
   ]
  },
  {
   "cell_type": "code",
   "execution_count": 74,
   "id": "fdded6c2",
   "metadata": {},
   "outputs": [],
   "source": [
    "def save_data():\n",
    "    \n",
    "    list_to_save = [stocks_train, X_train, y_train, stocks_test, X_test, y_test]\n",
    "\n",
    "    names = ['stocks_train.pickle', 'X_train.pickle', 'y_train.pickle',\n",
    "             'stocks_test.pickle', 'X_test.pickle', 'y_test.pickle']\n",
    "\n",
    "    for name, data in zip(names, list_to_save):\n",
    "        path = os.path.join(DIR, name)\n",
    "        if os.path.exists(path):  # dont override it (again:))\n",
    "            break\n",
    "        with open(path, 'wb') as f:\n",
    "            pickle.dump(data, f)\n",
    "    \n",
    "    print(os.listdir(DIR))"
   ]
  },
  {
   "cell_type": "code",
   "execution_count": 75,
   "id": "67f584f8",
   "metadata": {},
   "outputs": [
    {
     "name": "stdout",
     "output_type": "stream",
     "text": [
      "['y_train.pickle', 'y_test.pickle', 'X_train.pickle', 'stocks_test.pickle', 'scaler_test.joblib', 'X_test.pickle', 'stocks_train.pickle']\n"
     ]
    }
   ],
   "source": [
    "save_data()"
   ]
  }
 ],
 "metadata": {
  "kernelspec": {
   "display_name": "Python 3 (ipykernel)",
   "language": "python",
   "name": "python3"
  },
  "language_info": {
   "codemirror_mode": {
    "name": "ipython",
    "version": 3
   },
   "file_extension": ".py",
   "mimetype": "text/x-python",
   "name": "python",
   "nbconvert_exporter": "python",
   "pygments_lexer": "ipython3",
   "version": "3.7.12"
  }
 },
 "nbformat": 4,
 "nbformat_minor": 5
}
