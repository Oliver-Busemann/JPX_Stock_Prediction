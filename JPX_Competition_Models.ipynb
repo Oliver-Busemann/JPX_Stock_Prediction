{
 "cells": [
  {
   "cell_type": "code",
   "execution_count": 1,
   "id": "e7150246",
   "metadata": {},
   "outputs": [],
   "source": [
    "import os\n",
    "import pickle\n",
    "import joblib\n",
    "import numpy as np\n",
    "import xgboost\n",
    "from sklearn.model_selection import RandomizedSearchCV, PredefinedSplit\n",
    "import tensorflow as tf\n",
    "from tensorflow import keras\n",
    "from tensorflow.keras.layers import Dense, BatchNormalization, Dropout, Input, IntegerLookup, Activation, Embedding, Concatenate, Reshape, CategoryEncoding\n",
    "from tensorflow.keras.metrics import RootMeanSquaredError\n",
    "from tensorflow.keras.optimizers import Adam\n",
    "from tensorflow.keras.callbacks import EarlyStopping, TensorBoard, ModelCheckpoint\n",
    "import keras_tuner as kt"
   ]
  },
  {
   "cell_type": "code",
   "execution_count": 2,
   "id": "dff800cd",
   "metadata": {},
   "outputs": [],
   "source": [
    "os.environ['TF_CPP_MIN_LOG_LEVEL'] = '3' "
   ]
  },
  {
   "cell_type": "markdown",
   "id": "65376423",
   "metadata": {},
   "source": [
    "# Load the data"
   ]
  },
  {
   "cell_type": "code",
   "execution_count": 3,
   "id": "eb428502",
   "metadata": {},
   "outputs": [],
   "source": [
    "with open('JPX_Preprocessing/X_train.pickle', 'rb') as f1:\n",
    "    X_train = pickle.load(f1)\n",
    "with open('JPX_Preprocessing/X_test.pickle', 'rb') as f2:\n",
    "    X_test = pickle.load(f2)\n",
    "with open('JPX_Preprocessing/stocks_train.pickle', 'rb') as f3:\n",
    "    stocks_train = pickle.load(f3)\n",
    "with open('JPX_Preprocessing/stocks_test.pickle', 'rb') as f4:\n",
    "    stocks_test = pickle.load(f4)\n",
    "with open('JPX_Preprocessing/y_train.pickle', 'rb') as f5:\n",
    "    y_train = pickle.load(f5)\n",
    "with open('JPX_Preprocessing/y_test.pickle', 'rb') as f6:\n",
    "    y_test = pickle.load(f6)"
   ]
  },
  {
   "cell_type": "markdown",
   "id": "c756026e",
   "metadata": {},
   "source": [
    "# Build two model: XGB-Reg & NN"
   ]
  },
  {
   "cell_type": "markdown",
   "id": "ddb30d8f",
   "metadata": {},
   "source": [
    "## 1) XGBoost - Regressor"
   ]
  },
  {
   "cell_type": "markdown",
   "id": "c3f84c1a",
   "metadata": {},
   "source": [
    "The RandomizedSearchCV from sklearn is used to tune the hyperparameter"
   ]
  },
  {
   "cell_type": "markdown",
   "id": "91e52bd8",
   "metadata": {},
   "source": [
    "The created test set is used for cross validation with the class PredefinedSplit from sklearn"
   ]
  },
  {
   "cell_type": "code",
   "execution_count": 3,
   "id": "8455a56d",
   "metadata": {},
   "outputs": [],
   "source": [
    "X_con = np.concatenate((X_train, X_test), axis=0)  # concat for predefined split\n",
    "y_con = np.concatenate((y_train, y_test), axis=0)"
   ]
  },
  {
   "cell_type": "code",
   "execution_count": 4,
   "id": "f9d7582e",
   "metadata": {},
   "outputs": [],
   "source": [
    "test_fold = [-1 for _ in range(len(X_train))] + [0 for _ in range(len(X_test))]"
   ]
  },
  {
   "cell_type": "markdown",
   "id": "73c88105",
   "metadata": {},
   "source": [
    "-1 will not be used as a validationset; 0 is the first and only validation set"
   ]
  },
  {
   "cell_type": "code",
   "execution_count": 5,
   "id": "f9d56435",
   "metadata": {},
   "outputs": [],
   "source": [
    "ps = PredefinedSplit(test_fold)"
   ]
  },
  {
   "cell_type": "code",
   "execution_count": 6,
   "id": "9753dff0",
   "metadata": {},
   "outputs": [],
   "source": [
    "xgb = xgboost.XGBRegressor()"
   ]
  },
  {
   "cell_type": "code",
   "execution_count": 7,
   "id": "1f74e3fd",
   "metadata": {},
   "outputs": [],
   "source": [
    "xgb_params = {\n",
    " 'learning_rate' : [0.05,0.10,0.15,0.20,0.25,0.30],\n",
    " 'max_depth' : [ 3, 4, 5, 6, 8, 10, 12, 15],\n",
    " 'min_child_weight' : [ 1, 3, 5, 7 ],\n",
    " 'gamma': [ 0.0, 0.1, 0.2 , 0.3, 0.4 ],\n",
    " 'colsample_bytree' : [ 0.3, 0.4, 0.5 , 0.7 ]\n",
    "}"
   ]
  },
  {
   "cell_type": "code",
   "execution_count": 9,
   "id": "096bbf91",
   "metadata": {},
   "outputs": [],
   "source": [
    "xgb_search = RandomizedSearchCV(xgb, xgb_params, cv=ps, verbose=3, scoring='neg_mean_squared_error', n_iter=50)"
   ]
  },
  {
   "cell_type": "code",
   "execution_count": 10,
   "id": "44c25a50",
   "metadata": {},
   "outputs": [
    {
     "name": "stdout",
     "output_type": "stream",
     "text": [
      "Fitting 1 folds for each of 50 candidates, totalling 50 fits\n",
      "[CV] min_child_weight=1, max_depth=3, learning_rate=0.2, gamma=0.0, colsample_bytree=0.7 \n"
     ]
    },
    {
     "name": "stderr",
     "output_type": "stream",
     "text": [
      "[Parallel(n_jobs=1)]: Using backend SequentialBackend with 1 concurrent workers.\n"
     ]
    },
    {
     "name": "stdout",
     "output_type": "stream",
     "text": [
      "[CV]  min_child_weight=1, max_depth=3, learning_rate=0.2, gamma=0.0, colsample_bytree=0.7, score=-0.000, total=  19.3s\n",
      "[CV] min_child_weight=3, max_depth=15, learning_rate=0.15, gamma=0.4, colsample_bytree=0.4 \n"
     ]
    },
    {
     "name": "stderr",
     "output_type": "stream",
     "text": [
      "[Parallel(n_jobs=1)]: Done   1 out of   1 | elapsed:   19.3s remaining:    0.0s\n"
     ]
    },
    {
     "name": "stdout",
     "output_type": "stream",
     "text": [
      "[CV]  min_child_weight=3, max_depth=15, learning_rate=0.15, gamma=0.4, colsample_bytree=0.4, score=-0.000, total= 1.4min\n",
      "[CV] min_child_weight=3, max_depth=5, learning_rate=0.05, gamma=0.3, colsample_bytree=0.5 \n"
     ]
    },
    {
     "name": "stderr",
     "output_type": "stream",
     "text": [
      "[Parallel(n_jobs=1)]: Done   2 out of   2 | elapsed:  1.7min remaining:    0.0s\n"
     ]
    },
    {
     "name": "stdout",
     "output_type": "stream",
     "text": [
      "[CV]  min_child_weight=3, max_depth=5, learning_rate=0.05, gamma=0.3, colsample_bytree=0.5, score=-0.000, total=  26.1s\n",
      "[CV] min_child_weight=5, max_depth=15, learning_rate=0.05, gamma=0.3, colsample_bytree=0.3 \n",
      "[CV]  min_child_weight=5, max_depth=15, learning_rate=0.05, gamma=0.3, colsample_bytree=0.3, score=-0.000, total=  52.0s\n",
      "[CV] min_child_weight=1, max_depth=3, learning_rate=0.05, gamma=0.2, colsample_bytree=0.5 \n",
      "[CV]  min_child_weight=1, max_depth=3, learning_rate=0.05, gamma=0.2, colsample_bytree=0.5, score=-0.000, total=  18.0s\n",
      "[CV] min_child_weight=3, max_depth=6, learning_rate=0.3, gamma=0.0, colsample_bytree=0.4 \n",
      "[CV]  min_child_weight=3, max_depth=6, learning_rate=0.3, gamma=0.0, colsample_bytree=0.4, score=-0.000, total=  35.3s\n",
      "[CV] min_child_weight=3, max_depth=10, learning_rate=0.2, gamma=0.4, colsample_bytree=0.3 \n",
      "[CV]  min_child_weight=3, max_depth=10, learning_rate=0.2, gamma=0.4, colsample_bytree=0.3, score=-0.000, total=  50.0s\n",
      "[CV] min_child_weight=7, max_depth=3, learning_rate=0.05, gamma=0.4, colsample_bytree=0.5 \n",
      "[CV]  min_child_weight=7, max_depth=3, learning_rate=0.05, gamma=0.4, colsample_bytree=0.5, score=-0.000, total=  16.9s\n",
      "[CV] min_child_weight=5, max_depth=5, learning_rate=0.2, gamma=0.1, colsample_bytree=0.7 \n",
      "[CV]  min_child_weight=5, max_depth=5, learning_rate=0.2, gamma=0.1, colsample_bytree=0.7, score=-0.000, total=  30.7s\n",
      "[CV] min_child_weight=7, max_depth=3, learning_rate=0.3, gamma=0.4, colsample_bytree=0.4 \n",
      "[CV]  min_child_weight=7, max_depth=3, learning_rate=0.3, gamma=0.4, colsample_bytree=0.4, score=-0.000, total=  18.5s\n",
      "[CV] min_child_weight=7, max_depth=12, learning_rate=0.3, gamma=0.0, colsample_bytree=0.7 \n",
      "[CV]  min_child_weight=7, max_depth=12, learning_rate=0.3, gamma=0.0, colsample_bytree=0.7, score=-0.000, total= 1.2min\n",
      "[CV] min_child_weight=7, max_depth=4, learning_rate=0.2, gamma=0.2, colsample_bytree=0.7 \n",
      "[CV]  min_child_weight=7, max_depth=4, learning_rate=0.2, gamma=0.2, colsample_bytree=0.7, score=-0.000, total=  24.9s\n",
      "[CV] min_child_weight=7, max_depth=8, learning_rate=0.3, gamma=0.1, colsample_bytree=0.7 \n",
      "[CV]  min_child_weight=7, max_depth=8, learning_rate=0.3, gamma=0.1, colsample_bytree=0.7, score=-0.000, total=  49.2s\n",
      "[CV] min_child_weight=3, max_depth=5, learning_rate=0.15, gamma=0.0, colsample_bytree=0.4 \n",
      "[CV]  min_child_weight=3, max_depth=5, learning_rate=0.15, gamma=0.0, colsample_bytree=0.4, score=-0.000, total=  26.9s\n",
      "[CV] min_child_weight=1, max_depth=15, learning_rate=0.15, gamma=0.1, colsample_bytree=0.3 \n",
      "[CV]  min_child_weight=1, max_depth=15, learning_rate=0.15, gamma=0.1, colsample_bytree=0.3, score=-0.000, total= 1.2min\n",
      "[CV] min_child_weight=1, max_depth=5, learning_rate=0.3, gamma=0.0, colsample_bytree=0.5 \n",
      "[CV]  min_child_weight=1, max_depth=5, learning_rate=0.3, gamma=0.0, colsample_bytree=0.5, score=-0.000, total=  29.2s\n",
      "[CV] min_child_weight=7, max_depth=10, learning_rate=0.05, gamma=0.1, colsample_bytree=0.7 \n",
      "[CV]  min_child_weight=7, max_depth=10, learning_rate=0.05, gamma=0.1, colsample_bytree=0.7, score=-0.000, total=  49.7s\n",
      "[CV] min_child_weight=7, max_depth=3, learning_rate=0.05, gamma=0.1, colsample_bytree=0.5 \n",
      "[CV]  min_child_weight=7, max_depth=3, learning_rate=0.05, gamma=0.1, colsample_bytree=0.5, score=-0.000, total=  17.5s\n",
      "[CV] min_child_weight=5, max_depth=5, learning_rate=0.3, gamma=0.0, colsample_bytree=0.4 \n",
      "[CV]  min_child_weight=5, max_depth=5, learning_rate=0.3, gamma=0.0, colsample_bytree=0.4, score=-0.000, total=  29.6s\n",
      "[CV] min_child_weight=1, max_depth=5, learning_rate=0.05, gamma=0.0, colsample_bytree=0.3 \n",
      "[CV]  min_child_weight=1, max_depth=5, learning_rate=0.05, gamma=0.0, colsample_bytree=0.3, score=-0.000, total=  22.4s\n",
      "[CV] min_child_weight=5, max_depth=8, learning_rate=0.2, gamma=0.4, colsample_bytree=0.7 \n",
      "[CV]  min_child_weight=5, max_depth=8, learning_rate=0.2, gamma=0.4, colsample_bytree=0.7, score=-0.000, total=  53.5s\n",
      "[CV] min_child_weight=1, max_depth=6, learning_rate=0.25, gamma=0.1, colsample_bytree=0.4 \n",
      "[CV]  min_child_weight=1, max_depth=6, learning_rate=0.25, gamma=0.1, colsample_bytree=0.4, score=-0.000, total=  37.0s\n",
      "[CV] min_child_weight=3, max_depth=12, learning_rate=0.25, gamma=0.1, colsample_bytree=0.4 \n",
      "[CV]  min_child_weight=3, max_depth=12, learning_rate=0.25, gamma=0.1, colsample_bytree=0.4, score=-0.000, total= 1.2min\n",
      "[CV] min_child_weight=7, max_depth=10, learning_rate=0.1, gamma=0.4, colsample_bytree=0.4 \n",
      "[CV]  min_child_weight=7, max_depth=10, learning_rate=0.1, gamma=0.4, colsample_bytree=0.4, score=-0.000, total=  53.0s\n",
      "[CV] min_child_weight=7, max_depth=15, learning_rate=0.05, gamma=0.3, colsample_bytree=0.3 \n",
      "[CV]  min_child_weight=7, max_depth=15, learning_rate=0.05, gamma=0.3, colsample_bytree=0.3, score=-0.000, total=  50.0s\n",
      "[CV] min_child_weight=1, max_depth=6, learning_rate=0.05, gamma=0.1, colsample_bytree=0.5 \n",
      "[CV]  min_child_weight=1, max_depth=6, learning_rate=0.05, gamma=0.1, colsample_bytree=0.5, score=-0.000, total=  31.4s\n",
      "[CV] min_child_weight=5, max_depth=5, learning_rate=0.15, gamma=0.4, colsample_bytree=0.5 \n",
      "[CV]  min_child_weight=5, max_depth=5, learning_rate=0.15, gamma=0.4, colsample_bytree=0.5, score=-0.000, total=  29.8s\n",
      "[CV] min_child_weight=3, max_depth=12, learning_rate=0.15, gamma=0.2, colsample_bytree=0.4 \n",
      "[CV]  min_child_weight=3, max_depth=12, learning_rate=0.15, gamma=0.2, colsample_bytree=0.4, score=-0.000, total= 1.2min\n",
      "[CV] min_child_weight=1, max_depth=5, learning_rate=0.2, gamma=0.0, colsample_bytree=0.3 \n",
      "[CV]  min_child_weight=1, max_depth=5, learning_rate=0.2, gamma=0.0, colsample_bytree=0.3, score=-0.000, total=  26.7s\n",
      "[CV] min_child_weight=5, max_depth=5, learning_rate=0.15, gamma=0.1, colsample_bytree=0.4 \n",
      "[CV]  min_child_weight=5, max_depth=5, learning_rate=0.15, gamma=0.1, colsample_bytree=0.4, score=-0.000, total=  28.7s\n",
      "[CV] min_child_weight=5, max_depth=4, learning_rate=0.1, gamma=0.2, colsample_bytree=0.4 \n",
      "[CV]  min_child_weight=5, max_depth=4, learning_rate=0.1, gamma=0.2, colsample_bytree=0.4, score=-0.000, total=  23.5s\n",
      "[CV] min_child_weight=7, max_depth=3, learning_rate=0.05, gamma=0.4, colsample_bytree=0.4 \n",
      "[CV]  min_child_weight=7, max_depth=3, learning_rate=0.05, gamma=0.4, colsample_bytree=0.4, score=-0.000, total=  16.9s\n",
      "[CV] min_child_weight=1, max_depth=15, learning_rate=0.05, gamma=0.3, colsample_bytree=0.3 \n",
      "[CV]  min_child_weight=1, max_depth=15, learning_rate=0.05, gamma=0.3, colsample_bytree=0.3, score=-0.000, total=  48.4s\n",
      "[CV] min_child_weight=3, max_depth=4, learning_rate=0.05, gamma=0.2, colsample_bytree=0.7 \n",
      "[CV]  min_child_weight=3, max_depth=4, learning_rate=0.05, gamma=0.2, colsample_bytree=0.7, score=-0.000, total=  22.4s\n",
      "[CV] min_child_weight=3, max_depth=3, learning_rate=0.15, gamma=0.4, colsample_bytree=0.3 \n",
      "[CV]  min_child_weight=3, max_depth=3, learning_rate=0.15, gamma=0.4, colsample_bytree=0.3, score=-0.000, total=  16.7s\n",
      "[CV] min_child_weight=7, max_depth=6, learning_rate=0.25, gamma=0.3, colsample_bytree=0.7 \n",
      "[CV]  min_child_weight=7, max_depth=6, learning_rate=0.25, gamma=0.3, colsample_bytree=0.7, score=-0.000, total=  36.1s\n",
      "[CV] min_child_weight=3, max_depth=4, learning_rate=0.15, gamma=0.3, colsample_bytree=0.7 \n",
      "[CV]  min_child_weight=3, max_depth=4, learning_rate=0.15, gamma=0.3, colsample_bytree=0.7, score=-0.000, total=  23.8s\n",
      "[CV] min_child_weight=1, max_depth=4, learning_rate=0.1, gamma=0.1, colsample_bytree=0.5 \n",
      "[CV]  min_child_weight=1, max_depth=4, learning_rate=0.1, gamma=0.1, colsample_bytree=0.5, score=-0.000, total=  23.4s\n",
      "[CV] min_child_weight=7, max_depth=12, learning_rate=0.05, gamma=0.1, colsample_bytree=0.4 \n",
      "[CV]  min_child_weight=7, max_depth=12, learning_rate=0.05, gamma=0.1, colsample_bytree=0.4, score=-0.000, total=  49.1s\n",
      "[CV] min_child_weight=5, max_depth=12, learning_rate=0.1, gamma=0.2, colsample_bytree=0.3 \n",
      "[CV]  min_child_weight=5, max_depth=12, learning_rate=0.1, gamma=0.2, colsample_bytree=0.3, score=-0.000, total=  52.8s\n",
      "[CV] min_child_weight=3, max_depth=12, learning_rate=0.1, gamma=0.2, colsample_bytree=0.4 \n",
      "[CV]  min_child_weight=3, max_depth=12, learning_rate=0.1, gamma=0.2, colsample_bytree=0.4, score=-0.000, total=  58.7s\n",
      "[CV] min_child_weight=5, max_depth=10, learning_rate=0.25, gamma=0.4, colsample_bytree=0.7 \n"
     ]
    },
    {
     "name": "stdout",
     "output_type": "stream",
     "text": [
      "[CV]  min_child_weight=5, max_depth=10, learning_rate=0.25, gamma=0.4, colsample_bytree=0.7, score=-0.000, total=  58.6s\n",
      "[CV] min_child_weight=1, max_depth=3, learning_rate=0.25, gamma=0.2, colsample_bytree=0.4 \n",
      "[CV]  min_child_weight=1, max_depth=3, learning_rate=0.25, gamma=0.2, colsample_bytree=0.4, score=-0.000, total=  19.2s\n",
      "[CV] min_child_weight=1, max_depth=4, learning_rate=0.2, gamma=0.4, colsample_bytree=0.4 \n",
      "[CV]  min_child_weight=1, max_depth=4, learning_rate=0.2, gamma=0.4, colsample_bytree=0.4, score=-0.000, total=  26.1s\n",
      "[CV] min_child_weight=3, max_depth=5, learning_rate=0.25, gamma=0.4, colsample_bytree=0.3 \n",
      "[CV]  min_child_weight=3, max_depth=5, learning_rate=0.25, gamma=0.4, colsample_bytree=0.3, score=-0.000, total=  28.4s\n",
      "[CV] min_child_weight=3, max_depth=6, learning_rate=0.3, gamma=0.3, colsample_bytree=0.7 \n",
      "[CV]  min_child_weight=3, max_depth=6, learning_rate=0.3, gamma=0.3, colsample_bytree=0.7, score=-0.000, total=  39.5s\n",
      "[CV] min_child_weight=5, max_depth=15, learning_rate=0.25, gamma=0.3, colsample_bytree=0.7 \n",
      "[CV]  min_child_weight=5, max_depth=15, learning_rate=0.25, gamma=0.3, colsample_bytree=0.7, score=-0.000, total= 1.5min\n",
      "[CV] min_child_weight=7, max_depth=6, learning_rate=0.2, gamma=0.0, colsample_bytree=0.3 \n",
      "[CV]  min_child_weight=7, max_depth=6, learning_rate=0.2, gamma=0.0, colsample_bytree=0.3, score=-0.000, total=  30.6s\n",
      "[CV] min_child_weight=3, max_depth=4, learning_rate=0.25, gamma=0.3, colsample_bytree=0.3 \n",
      "[CV]  min_child_weight=3, max_depth=4, learning_rate=0.25, gamma=0.3, colsample_bytree=0.3, score=-0.000, total=  22.8s\n",
      "[CV] min_child_weight=1, max_depth=15, learning_rate=0.1, gamma=0.2, colsample_bytree=0.3 \n",
      "[CV]  min_child_weight=1, max_depth=15, learning_rate=0.1, gamma=0.2, colsample_bytree=0.3, score=-0.000, total= 1.2min\n"
     ]
    },
    {
     "name": "stderr",
     "output_type": "stream",
     "text": [
      "[Parallel(n_jobs=1)]: Done  50 out of  50 | elapsed: 32.6min finished\n"
     ]
    },
    {
     "data": {
      "text/plain": [
       "RandomizedSearchCV(cv=PredefinedSplit(test_fold=array([-1, -1, ...,  0,  0])),\n",
       "                   estimator=XGBRegressor(base_score=None, booster=None,\n",
       "                                          colsample_bylevel=None,\n",
       "                                          colsample_bynode=None,\n",
       "                                          colsample_bytree=None,\n",
       "                                          enable_categorical=False, gamma=None,\n",
       "                                          gpu_id=None, importance_type=None,\n",
       "                                          interaction_constraints=None,\n",
       "                                          learning_rate=None,\n",
       "                                          max_delta_step=None, max_depth=None,\n",
       "                                          min_chi...\n",
       "                                          reg_alpha=None, reg_lambda=None,\n",
       "                                          scale_pos_weight=None, subsample=None,\n",
       "                                          tree_method=None,\n",
       "                                          validate_parameters=None,\n",
       "                                          verbosity=None),\n",
       "                   n_iter=50,\n",
       "                   param_distributions={'colsample_bytree': [0.3, 0.4, 0.5,\n",
       "                                                             0.7],\n",
       "                                        'gamma': [0.0, 0.1, 0.2, 0.3, 0.4],\n",
       "                                        'learning_rate': [0.05, 0.1, 0.15, 0.2,\n",
       "                                                          0.25, 0.3],\n",
       "                                        'max_depth': [3, 4, 5, 6, 8, 10, 12,\n",
       "                                                      15],\n",
       "                                        'min_child_weight': [1, 3, 5, 7]},\n",
       "                   scoring='neg_mean_squared_error', verbose=3)"
      ]
     },
     "execution_count": 10,
     "metadata": {},
     "output_type": "execute_result"
    }
   ],
   "source": [
    "xgb_search.fit(X_con, y_con)"
   ]
  },
  {
   "cell_type": "code",
   "execution_count": 11,
   "id": "953c9a89",
   "metadata": {},
   "outputs": [
    {
     "data": {
      "text/plain": [
       "{'min_child_weight': 1,\n",
       " 'max_depth': 4,\n",
       " 'learning_rate': 0.1,\n",
       " 'gamma': 0.1,\n",
       " 'colsample_bytree': 0.5}"
      ]
     },
     "execution_count": 11,
     "metadata": {},
     "output_type": "execute_result"
    }
   ],
   "source": [
    "xgb_search.best_params_"
   ]
  },
  {
   "cell_type": "code",
   "execution_count": 12,
   "id": "0ca1c373",
   "metadata": {},
   "outputs": [
    {
     "data": {
      "text/plain": [
       "-0.00044652685755863786"
      ]
     },
     "execution_count": 12,
     "metadata": {},
     "output_type": "execute_result"
    }
   ],
   "source": [
    "xgb_search.best_score_"
   ]
  },
  {
   "cell_type": "code",
   "execution_count": 13,
   "id": "fc457885",
   "metadata": {},
   "outputs": [],
   "source": [
    "xgb_2 = xgboost.XGBRegressor()"
   ]
  },
  {
   "cell_type": "code",
   "execution_count": 17,
   "id": "26e53aeb",
   "metadata": {},
   "outputs": [],
   "source": [
    "xgb_params_2 = {\n",
    " 'learning_rate' : [0.05, 0.06, 0.07, 0.08, 0.09, 0.1, 0.11, 0.12, 0.13, 0.14, 0.15],\n",
    " 'max_depth' : [3, 4, 5],\n",
    " 'min_child_weight' : [1, 2],\n",
    " 'gamma': [0.025, 0.05, 0.075, 0.1, 0.125, 0.15, 0.175],\n",
    " 'colsample_bytree' : [0.45, 0.5, 0.55, 0.6]\n",
    "}"
   ]
  },
  {
   "cell_type": "code",
   "execution_count": 18,
   "id": "ff47a8a8",
   "metadata": {},
   "outputs": [],
   "source": [
    "xgb_search_2 = RandomizedSearchCV(xgb_2, xgb_params_2, cv=ps, verbose=3, scoring='neg_mean_squared_error', n_iter=50)"
   ]
  },
  {
   "cell_type": "code",
   "execution_count": 19,
   "id": "47c6c472",
   "metadata": {
    "scrolled": false
   },
   "outputs": [
    {
     "name": "stdout",
     "output_type": "stream",
     "text": [
      "Fitting 1 folds for each of 50 candidates, totalling 50 fits\n",
      "[CV] min_child_weight=1, max_depth=3, learning_rate=0.12, gamma=0.025, colsample_bytree=0.55 \n"
     ]
    },
    {
     "name": "stderr",
     "output_type": "stream",
     "text": [
      "[Parallel(n_jobs=1)]: Using backend SequentialBackend with 1 concurrent workers.\n"
     ]
    },
    {
     "name": "stdout",
     "output_type": "stream",
     "text": [
      "[CV]  min_child_weight=1, max_depth=3, learning_rate=0.12, gamma=0.025, colsample_bytree=0.55, score=-0.000, total=  16.8s\n",
      "[CV] min_child_weight=1, max_depth=5, learning_rate=0.13, gamma=0.175, colsample_bytree=0.5 \n"
     ]
    },
    {
     "name": "stderr",
     "output_type": "stream",
     "text": [
      "[Parallel(n_jobs=1)]: Done   1 out of   1 | elapsed:   16.8s remaining:    0.0s\n"
     ]
    },
    {
     "name": "stdout",
     "output_type": "stream",
     "text": [
      "[CV]  min_child_weight=1, max_depth=5, learning_rate=0.13, gamma=0.175, colsample_bytree=0.5, score=-0.000, total=  28.2s\n",
      "[CV] min_child_weight=2, max_depth=5, learning_rate=0.1, gamma=0.125, colsample_bytree=0.45 \n"
     ]
    },
    {
     "name": "stderr",
     "output_type": "stream",
     "text": [
      "[Parallel(n_jobs=1)]: Done   2 out of   2 | elapsed:   45.0s remaining:    0.0s\n"
     ]
    },
    {
     "name": "stdout",
     "output_type": "stream",
     "text": [
      "[CV]  min_child_weight=2, max_depth=5, learning_rate=0.1, gamma=0.125, colsample_bytree=0.45, score=-0.000, total=  29.1s\n",
      "[CV] min_child_weight=2, max_depth=5, learning_rate=0.11, gamma=0.1, colsample_bytree=0.5 \n",
      "[CV]  min_child_weight=2, max_depth=5, learning_rate=0.11, gamma=0.1, colsample_bytree=0.5, score=-0.000, total=  28.4s\n",
      "[CV] min_child_weight=2, max_depth=5, learning_rate=0.12, gamma=0.15, colsample_bytree=0.5 \n",
      "[CV]  min_child_weight=2, max_depth=5, learning_rate=0.12, gamma=0.15, colsample_bytree=0.5, score=-0.000, total=  29.6s\n",
      "[CV] min_child_weight=1, max_depth=4, learning_rate=0.07, gamma=0.125, colsample_bytree=0.55 \n",
      "[CV]  min_child_weight=1, max_depth=4, learning_rate=0.07, gamma=0.125, colsample_bytree=0.55, score=-0.000, total=  23.8s\n",
      "[CV] min_child_weight=2, max_depth=5, learning_rate=0.07, gamma=0.05, colsample_bytree=0.6 \n",
      "[CV]  min_child_weight=2, max_depth=5, learning_rate=0.07, gamma=0.05, colsample_bytree=0.6, score=-0.000, total=  29.3s\n",
      "[CV] min_child_weight=2, max_depth=3, learning_rate=0.05, gamma=0.1, colsample_bytree=0.55 \n",
      "[CV]  min_child_weight=2, max_depth=3, learning_rate=0.05, gamma=0.1, colsample_bytree=0.55, score=-0.000, total=  16.1s\n",
      "[CV] min_child_weight=1, max_depth=3, learning_rate=0.06, gamma=0.05, colsample_bytree=0.5 \n",
      "[CV]  min_child_weight=1, max_depth=3, learning_rate=0.06, gamma=0.05, colsample_bytree=0.5, score=-0.000, total=  16.3s\n",
      "[CV] min_child_weight=2, max_depth=5, learning_rate=0.13, gamma=0.1, colsample_bytree=0.45 \n",
      "[CV]  min_child_weight=2, max_depth=5, learning_rate=0.13, gamma=0.1, colsample_bytree=0.45, score=-0.000, total=  27.2s\n",
      "[CV] min_child_weight=1, max_depth=5, learning_rate=0.13, gamma=0.05, colsample_bytree=0.55 \n",
      "[CV]  min_child_weight=1, max_depth=5, learning_rate=0.13, gamma=0.05, colsample_bytree=0.55, score=-0.000, total=  26.9s\n",
      "[CV] min_child_weight=1, max_depth=3, learning_rate=0.15, gamma=0.175, colsample_bytree=0.55 \n",
      "[CV]  min_child_weight=1, max_depth=3, learning_rate=0.15, gamma=0.175, colsample_bytree=0.55, score=-0.000, total=  17.0s\n",
      "[CV] min_child_weight=2, max_depth=3, learning_rate=0.11, gamma=0.1, colsample_bytree=0.45 \n",
      "[CV]  min_child_weight=2, max_depth=3, learning_rate=0.11, gamma=0.1, colsample_bytree=0.45, score=-0.000, total=  16.7s\n",
      "[CV] min_child_weight=1, max_depth=5, learning_rate=0.07, gamma=0.1, colsample_bytree=0.6 \n",
      "[CV]  min_child_weight=1, max_depth=5, learning_rate=0.07, gamma=0.1, colsample_bytree=0.6, score=-0.000, total=  27.8s\n",
      "[CV] min_child_weight=2, max_depth=4, learning_rate=0.07, gamma=0.15, colsample_bytree=0.6 \n",
      "[CV]  min_child_weight=2, max_depth=4, learning_rate=0.07, gamma=0.15, colsample_bytree=0.6, score=-0.000, total=  23.0s\n",
      "[CV] min_child_weight=2, max_depth=4, learning_rate=0.13, gamma=0.15, colsample_bytree=0.5 \n",
      "[CV]  min_child_weight=2, max_depth=4, learning_rate=0.13, gamma=0.15, colsample_bytree=0.5, score=-0.000, total=  22.2s\n",
      "[CV] min_child_weight=2, max_depth=4, learning_rate=0.13, gamma=0.125, colsample_bytree=0.55 \n",
      "[CV]  min_child_weight=2, max_depth=4, learning_rate=0.13, gamma=0.125, colsample_bytree=0.55, score=-0.000, total=  22.2s\n",
      "[CV] min_child_weight=2, max_depth=4, learning_rate=0.08, gamma=0.075, colsample_bytree=0.45 \n",
      "[CV]  min_child_weight=2, max_depth=4, learning_rate=0.08, gamma=0.075, colsample_bytree=0.45, score=-0.000, total=  20.9s\n",
      "[CV] min_child_weight=1, max_depth=3, learning_rate=0.11, gamma=0.175, colsample_bytree=0.55 \n",
      "[CV]  min_child_weight=1, max_depth=3, learning_rate=0.11, gamma=0.175, colsample_bytree=0.55, score=-0.000, total=  17.1s\n",
      "[CV] min_child_weight=1, max_depth=4, learning_rate=0.1, gamma=0.125, colsample_bytree=0.45 \n",
      "[CV]  min_child_weight=1, max_depth=4, learning_rate=0.1, gamma=0.125, colsample_bytree=0.45, score=-0.000, total=  21.7s\n",
      "[CV] min_child_weight=2, max_depth=3, learning_rate=0.14, gamma=0.15, colsample_bytree=0.5 \n",
      "[CV]  min_child_weight=2, max_depth=3, learning_rate=0.14, gamma=0.15, colsample_bytree=0.5, score=-0.000, total=  17.7s\n",
      "[CV] min_child_weight=1, max_depth=5, learning_rate=0.07, gamma=0.175, colsample_bytree=0.45 \n",
      "[CV]  min_child_weight=1, max_depth=5, learning_rate=0.07, gamma=0.175, colsample_bytree=0.45, score=-0.000, total=  25.8s\n",
      "[CV] min_child_weight=1, max_depth=4, learning_rate=0.15, gamma=0.1, colsample_bytree=0.6 \n",
      "[CV]  min_child_weight=1, max_depth=4, learning_rate=0.15, gamma=0.1, colsample_bytree=0.6, score=-0.000, total=  24.0s\n",
      "[CV] min_child_weight=2, max_depth=5, learning_rate=0.06, gamma=0.075, colsample_bytree=0.5 \n",
      "[CV]  min_child_weight=2, max_depth=5, learning_rate=0.06, gamma=0.075, colsample_bytree=0.5, score=-0.000, total=  24.8s\n",
      "[CV] min_child_weight=2, max_depth=3, learning_rate=0.08, gamma=0.05, colsample_bytree=0.6 \n",
      "[CV]  min_child_weight=2, max_depth=3, learning_rate=0.08, gamma=0.05, colsample_bytree=0.6, score=-0.000, total=  17.7s\n",
      "[CV] min_child_weight=1, max_depth=4, learning_rate=0.1, gamma=0.1, colsample_bytree=0.5 \n",
      "[CV]  min_child_weight=1, max_depth=4, learning_rate=0.1, gamma=0.1, colsample_bytree=0.5, score=-0.000, total=  21.8s\n",
      "[CV] min_child_weight=1, max_depth=3, learning_rate=0.09, gamma=0.025, colsample_bytree=0.45 \n",
      "[CV]  min_child_weight=1, max_depth=3, learning_rate=0.09, gamma=0.025, colsample_bytree=0.45, score=-0.000, total=  16.7s\n",
      "[CV] min_child_weight=1, max_depth=5, learning_rate=0.05, gamma=0.025, colsample_bytree=0.55 \n",
      "[CV]  min_child_weight=1, max_depth=5, learning_rate=0.05, gamma=0.025, colsample_bytree=0.55, score=-0.000, total=  23.7s\n",
      "[CV] min_child_weight=1, max_depth=5, learning_rate=0.1, gamma=0.125, colsample_bytree=0.45 \n",
      "[CV]  min_child_weight=1, max_depth=5, learning_rate=0.1, gamma=0.125, colsample_bytree=0.45, score=-0.000, total=  26.8s\n",
      "[CV] min_child_weight=1, max_depth=3, learning_rate=0.11, gamma=0.1, colsample_bytree=0.55 \n",
      "[CV]  min_child_weight=1, max_depth=3, learning_rate=0.11, gamma=0.1, colsample_bytree=0.55, score=-0.000, total=  16.9s\n",
      "[CV] min_child_weight=1, max_depth=5, learning_rate=0.1, gamma=0.175, colsample_bytree=0.55 \n",
      "[CV]  min_child_weight=1, max_depth=5, learning_rate=0.1, gamma=0.175, colsample_bytree=0.55, score=-0.000, total=  27.0s\n",
      "[CV] min_child_weight=1, max_depth=5, learning_rate=0.12, gamma=0.025, colsample_bytree=0.45 \n",
      "[CV]  min_child_weight=1, max_depth=5, learning_rate=0.12, gamma=0.025, colsample_bytree=0.45, score=-0.000, total=  26.4s\n",
      "[CV] min_child_weight=1, max_depth=4, learning_rate=0.11, gamma=0.05, colsample_bytree=0.45 \n",
      "[CV]  min_child_weight=1, max_depth=4, learning_rate=0.11, gamma=0.05, colsample_bytree=0.45, score=-0.000, total=  21.8s\n",
      "[CV] min_child_weight=1, max_depth=3, learning_rate=0.15, gamma=0.15, colsample_bytree=0.6 \n",
      "[CV]  min_child_weight=1, max_depth=3, learning_rate=0.15, gamma=0.15, colsample_bytree=0.6, score=-0.000, total=  18.2s\n",
      "[CV] min_child_weight=2, max_depth=5, learning_rate=0.15, gamma=0.05, colsample_bytree=0.6 \n",
      "[CV]  min_child_weight=2, max_depth=5, learning_rate=0.15, gamma=0.05, colsample_bytree=0.6, score=-0.000, total=  28.8s\n",
      "[CV] min_child_weight=2, max_depth=5, learning_rate=0.13, gamma=0.175, colsample_bytree=0.6 \n",
      "[CV]  min_child_weight=2, max_depth=5, learning_rate=0.13, gamma=0.175, colsample_bytree=0.6, score=-0.000, total=  29.4s\n",
      "[CV] min_child_weight=1, max_depth=4, learning_rate=0.09, gamma=0.125, colsample_bytree=0.45 \n",
      "[CV]  min_child_weight=1, max_depth=4, learning_rate=0.09, gamma=0.125, colsample_bytree=0.45, score=-0.000, total=  22.0s\n",
      "[CV] min_child_weight=1, max_depth=5, learning_rate=0.14, gamma=0.1, colsample_bytree=0.6 \n",
      "[CV]  min_child_weight=1, max_depth=5, learning_rate=0.14, gamma=0.1, colsample_bytree=0.6, score=-0.000, total=  29.8s\n",
      "[CV] min_child_weight=2, max_depth=5, learning_rate=0.09, gamma=0.175, colsample_bytree=0.5 \n",
      "[CV]  min_child_weight=2, max_depth=5, learning_rate=0.09, gamma=0.175, colsample_bytree=0.5, score=-0.000, total=  26.6s\n",
      "[CV] min_child_weight=1, max_depth=3, learning_rate=0.08, gamma=0.1, colsample_bytree=0.45 \n",
      "[CV]  min_child_weight=1, max_depth=3, learning_rate=0.08, gamma=0.1, colsample_bytree=0.45, score=-0.000, total=  16.8s\n",
      "[CV] min_child_weight=2, max_depth=3, learning_rate=0.15, gamma=0.175, colsample_bytree=0.6 \n",
      "[CV]  min_child_weight=2, max_depth=3, learning_rate=0.15, gamma=0.175, colsample_bytree=0.6, score=-0.000, total=  18.2s\n",
      "[CV] min_child_weight=1, max_depth=4, learning_rate=0.14, gamma=0.075, colsample_bytree=0.45 \n"
     ]
    },
    {
     "name": "stdout",
     "output_type": "stream",
     "text": [
      "[CV]  min_child_weight=1, max_depth=4, learning_rate=0.14, gamma=0.075, colsample_bytree=0.45, score=-0.000, total=  22.5s\n",
      "[CV] min_child_weight=1, max_depth=5, learning_rate=0.1, gamma=0.075, colsample_bytree=0.6 \n",
      "[CV]  min_child_weight=1, max_depth=5, learning_rate=0.1, gamma=0.075, colsample_bytree=0.6, score=-0.000, total=  28.5s\n",
      "[CV] min_child_weight=1, max_depth=4, learning_rate=0.07, gamma=0.125, colsample_bytree=0.45 \n",
      "[CV]  min_child_weight=1, max_depth=4, learning_rate=0.07, gamma=0.125, colsample_bytree=0.45, score=-0.000, total=  21.1s\n",
      "[CV] min_child_weight=2, max_depth=5, learning_rate=0.09, gamma=0.125, colsample_bytree=0.45 \n",
      "[CV]  min_child_weight=2, max_depth=5, learning_rate=0.09, gamma=0.125, colsample_bytree=0.45, score=-0.000, total=  26.2s\n",
      "[CV] min_child_weight=2, max_depth=3, learning_rate=0.15, gamma=0.175, colsample_bytree=0.45 \n",
      "[CV]  min_child_weight=2, max_depth=3, learning_rate=0.15, gamma=0.175, colsample_bytree=0.45, score=-0.000, total=  17.3s\n",
      "[CV] min_child_weight=1, max_depth=3, learning_rate=0.08, gamma=0.175, colsample_bytree=0.45 \n",
      "[CV]  min_child_weight=1, max_depth=3, learning_rate=0.08, gamma=0.175, colsample_bytree=0.45, score=-0.000, total=  16.7s\n",
      "[CV] min_child_weight=2, max_depth=5, learning_rate=0.11, gamma=0.075, colsample_bytree=0.55 \n",
      "[CV]  min_child_weight=2, max_depth=5, learning_rate=0.11, gamma=0.075, colsample_bytree=0.55, score=-0.000, total=  26.7s\n",
      "[CV] min_child_weight=2, max_depth=5, learning_rate=0.12, gamma=0.075, colsample_bytree=0.5 \n",
      "[CV]  min_child_weight=2, max_depth=5, learning_rate=0.12, gamma=0.075, colsample_bytree=0.5, score=-0.000, total=  26.4s\n",
      "[CV] min_child_weight=1, max_depth=3, learning_rate=0.11, gamma=0.025, colsample_bytree=0.6 \n",
      "[CV]  min_child_weight=1, max_depth=3, learning_rate=0.11, gamma=0.025, colsample_bytree=0.6, score=-0.000, total=  17.4s\n"
     ]
    },
    {
     "name": "stderr",
     "output_type": "stream",
     "text": [
      "[Parallel(n_jobs=1)]: Done  50 out of  50 | elapsed: 19.1min finished\n"
     ]
    },
    {
     "data": {
      "text/plain": [
       "RandomizedSearchCV(cv=PredefinedSplit(test_fold=array([-1, -1, ...,  0,  0])),\n",
       "                   estimator=XGBRegressor(base_score=None, booster=None,\n",
       "                                          colsample_bylevel=None,\n",
       "                                          colsample_bynode=None,\n",
       "                                          colsample_bytree=None,\n",
       "                                          enable_categorical=False, gamma=None,\n",
       "                                          gpu_id=None, importance_type=None,\n",
       "                                          interaction_constraints=None,\n",
       "                                          learning_rate=None,\n",
       "                                          max_delta_step=None, max_depth=None,\n",
       "                                          min_chi...\n",
       "                                          scale_pos_weight=None, subsample=None,\n",
       "                                          tree_method=None,\n",
       "                                          validate_parameters=None,\n",
       "                                          verbosity=None),\n",
       "                   n_iter=50,\n",
       "                   param_distributions={'colsample_bytree': [0.45, 0.5, 0.55,\n",
       "                                                             0.6],\n",
       "                                        'gamma': [0.025, 0.05, 0.075, 0.1,\n",
       "                                                  0.125, 0.15, 0.175],\n",
       "                                        'learning_rate': [0.05, 0.06, 0.07,\n",
       "                                                          0.08, 0.09, 0.1, 0.11,\n",
       "                                                          0.12, 0.13, 0.14,\n",
       "                                                          0.15],\n",
       "                                        'max_depth': [3, 4, 5],\n",
       "                                        'min_child_weight': [1, 2]},\n",
       "                   scoring='neg_mean_squared_error', verbose=3)"
      ]
     },
     "execution_count": 19,
     "metadata": {},
     "output_type": "execute_result"
    }
   ],
   "source": [
    "xgb_search_2.fit(X_con, y_con)"
   ]
  },
  {
   "cell_type": "code",
   "execution_count": 20,
   "id": "1b559fa9",
   "metadata": {},
   "outputs": [
    {
     "data": {
      "text/plain": [
       "{'min_child_weight': 1,\n",
       " 'max_depth': 3,\n",
       " 'learning_rate': 0.12,\n",
       " 'gamma': 0.025,\n",
       " 'colsample_bytree': 0.55}"
      ]
     },
     "execution_count": 20,
     "metadata": {},
     "output_type": "execute_result"
    }
   ],
   "source": [
    "xgb_search_2.best_params_"
   ]
  },
  {
   "cell_type": "code",
   "execution_count": 22,
   "id": "4f51cb1e",
   "metadata": {},
   "outputs": [
    {
     "data": {
      "text/plain": [
       "-0.00044646894093602896"
      ]
     },
     "execution_count": 22,
     "metadata": {},
     "output_type": "execute_result"
    }
   ],
   "source": [
    "xgb_search_2.best_score_"
   ]
  },
  {
   "cell_type": "markdown",
   "id": "43ea194c",
   "metadata": {},
   "source": [
    "### Fit the XGB regressor with all data and the best hyperparameters"
   ]
  },
  {
   "cell_type": "code",
   "execution_count": 23,
   "id": "df68b9a6",
   "metadata": {},
   "outputs": [],
   "source": [
    "xgb_best = xgboost.XGBRegressor(**xgb_search_2.best_params_)"
   ]
  },
  {
   "cell_type": "code",
   "execution_count": 24,
   "id": "a7ffd149",
   "metadata": {},
   "outputs": [
    {
     "data": {
      "text/plain": [
       "XGBRegressor(base_score=0.5, booster='gbtree', colsample_bylevel=1,\n",
       "             colsample_bynode=1, colsample_bytree=0.55,\n",
       "             enable_categorical=False, gamma=0.025, gpu_id=-1,\n",
       "             importance_type=None, interaction_constraints='',\n",
       "             learning_rate=0.12, max_delta_step=0, max_depth=3,\n",
       "             min_child_weight=1, missing=nan, monotone_constraints='()',\n",
       "             n_estimators=100, n_jobs=32, num_parallel_tree=1, predictor='auto',\n",
       "             random_state=0, reg_alpha=0, reg_lambda=1, scale_pos_weight=1,\n",
       "             subsample=1, tree_method='exact', validate_parameters=1,\n",
       "             verbosity=None)"
      ]
     },
     "execution_count": 24,
     "metadata": {},
     "output_type": "execute_result"
    }
   ],
   "source": [
    "xgb_best.fit(X_con, y_con)"
   ]
  },
  {
   "cell_type": "markdown",
   "id": "9a26ffe4",
   "metadata": {},
   "source": [
    "### Save the trained model"
   ]
  },
  {
   "cell_type": "code",
   "execution_count": 26,
   "id": "ce8984b8",
   "metadata": {},
   "outputs": [
    {
     "data": {
      "text/plain": [
       "['XGB_Regressor.joblib']"
      ]
     },
     "execution_count": 26,
     "metadata": {},
     "output_type": "execute_result"
    }
   ],
   "source": [
    "joblib.dump(xgb_best, 'XGB_Regressor.joblib')"
   ]
  },
  {
   "cell_type": "markdown",
   "id": "d2d29c66",
   "metadata": {},
   "source": [
    "## Now to the Neural Network"
   ]
  },
  {
   "cell_type": "markdown",
   "id": "04db91b7",
   "metadata": {},
   "source": [
    "The stocks will be fed separately through a preprocessing layer (Integer Lookup)"
   ]
  },
  {
   "cell_type": "code",
   "execution_count": 27,
   "id": "8f351e08",
   "metadata": {},
   "outputs": [],
   "source": [
    "stocks_unique = np.unique(stocks_train)  # all 2000 stocks for adapting\n",
    "maxlen_stocks = len(stocks_unique) # 2000\n",
    "stock_lookup_layer = IntegerLookup(max_tokens=maxlen_stocks)\n",
    "stock_lookup_layer.adapt(stocks_unique)  # fit the layer with the data"
   ]
  },
  {
   "cell_type": "code",
   "execution_count": 28,
   "id": "3baf292b",
   "metadata": {},
   "outputs": [],
   "source": [
    "def build_model_1(hp):\n",
    "    stock_inputs = Input(shape=(1,), dtype=tf.uint16)  # Inputs into the model\n",
    "    price_inputs = Input(shape=(5,), dtype=tf.float32)\n",
    "    \n",
    "    stocks = stock_lookup_layer(stock_inputs)  # preprocessinglayer creating onehot outputs\n",
    "    stocks = Embedding(maxlen_stocks, hp.Int('Emb_Out', 8, 64, 8), input_length=1)(stocks)\n",
    "    stocks = Reshape((-1, ))(stocks)\n",
    "    stocks = Dense(units=hp.Int('Stock_Units', 8, 128, 8), activation='relu')(stocks)\n",
    "    \n",
    "    drop_X = hp.Float('Drop_Rate_X', 0.1, 0.5, 0.1)\n",
    "    drop_Con = hp.Float('Drop_Rate_Con', 0.1, 0.5, 0.1)\n",
    "    add_Con_Layers = hp.Int('Add_Con_Layers', 1, 2, 1)\n",
    "    \n",
    "    X = Dense(units=hp.Choice('X_1_Units', [32, 64, 128, 256, 512]))(price_inputs)\n",
    "    X = BatchNormalization()(X)\n",
    "    X = Activation('relu')(X)\n",
    "    X = Dropout(drop_X)(X)\n",
    "    \n",
    "    if hp.Boolean('2nd_X_Layer'):\n",
    "        X = Dense(units=hp.Choice('X_2_Units', [16, 32, 64, 128]))(price_inputs)\n",
    "        X = BatchNormalization()(X)\n",
    "        X = Activation('relu')(X)\n",
    "        X = Dropout(drop_X)(X)\n",
    "    \n",
    "    con = Concatenate(axis=1)([stocks, X])\n",
    "    \n",
    "    con = Dense(units=hp.Choice('Con_1_Units', [64, 128, 256, 512]))(con)\n",
    "    con = BatchNormalization()(con)\n",
    "    con = Activation('relu')(con)\n",
    "    con = Dropout(drop_Con)(con)\n",
    "    \n",
    "    for i in range(add_Con_Layers):\n",
    "        con = Dense(units=hp.Choice(f'Con_{i+2}_Units', [8, 16, 32, 64, 128, 256]))(con)\n",
    "        con = BatchNormalization()(con)\n",
    "        con = Activation('relu')(con)\n",
    "        con = Dropout(drop_Con)(con)\n",
    "    \n",
    "    output = Dense(1)(con)\n",
    "    \n",
    "    rmse = RootMeanSquaredError(name='rmse')\n",
    "    \n",
    "    model = keras.Model(inputs=[stock_inputs, price_inputs], outputs=[output])\n",
    "    \n",
    "    lr = hp.Float(\"lr\", min_value=1e-4, max_value=1e-2, sampling=\"log\")\n",
    "    \n",
    "    model.compile(loss='mse', optimizer=Adam(learning_rate=lr), metrics=[rmse])\n",
    "    \n",
    "    return model"
   ]
  },
  {
   "cell_type": "code",
   "execution_count": 29,
   "id": "4d824a01",
   "metadata": {},
   "outputs": [
    {
     "name": "stdout",
     "output_type": "stream",
     "text": [
      "INFO:tensorflow:Reloading Oracle from existing project NN_Logs_Tuner_1/untitled_project/oracle.json\n",
      "INFO:tensorflow:Reloading Tuner from NN_Logs_Tuner_1/untitled_project/tuner0.json\n"
     ]
    }
   ],
   "source": [
    "tuner_1 = kt.RandomSearch(\n",
    "    hypermodel=build_model_1,\n",
    "    objective='val_loss',\n",
    "    max_trials=120,\n",
    "    directory='NN_Logs_Tuner_1')"
   ]
  },
  {
   "cell_type": "code",
   "execution_count": 35,
   "id": "a5d83e48",
   "metadata": {},
   "outputs": [
    {
     "name": "stdout",
     "output_type": "stream",
     "text": [
      "Trial 120 Complete [00h 00m 19s]\n",
      "val_loss: 0.00044662586878985167\n",
      "\n",
      "Best val_loss So Far: 0.00044647062895819545\n",
      "Total elapsed time: 00h 35m 29s\n",
      "INFO:tensorflow:Oracle triggered exit\n"
     ]
    }
   ],
   "source": [
    "tuner_1.search((stocks_train, X_train), y_train, epochs=3, batch_size=1024,\n",
    "                validation_data=((stocks_test, X_test), y_test))"
   ]
  },
  {
   "cell_type": "code",
   "execution_count": 36,
   "id": "3a614303",
   "metadata": {},
   "outputs": [
    {
     "name": "stdout",
     "output_type": "stream",
     "text": [
      "Results summary\n",
      "Results in NN_Logs_Tuner_1/untitled_project\n",
      "Showing 3 best trials\n",
      "Objective(name='val_loss', direction='min')\n",
      "Trial summary\n",
      "Hyperparameters:\n",
      "Emb_Out: 40\n",
      "Stock_Units: 56\n",
      "Drop_Rate_X: 0.2\n",
      "Drop_Rate_Con: 0.2\n",
      "Add_Con_Layers: 1\n",
      "X_1_Units: 64\n",
      "2nd_X_Layer: False\n",
      "Con_1_Units: 512\n",
      "Con_2_Units: 16\n",
      "lr: 0.0004910533133090028\n",
      "X_2_Units: 64\n",
      "Con_3_Units: 8\n",
      "Score: 0.00044647062895819545\n",
      "Trial summary\n",
      "Hyperparameters:\n",
      "Emb_Out: 56\n",
      "Stock_Units: 72\n",
      "Drop_Rate_X: 0.30000000000000004\n",
      "Drop_Rate_Con: 0.30000000000000004\n",
      "Add_Con_Layers: 1\n",
      "X_1_Units: 128\n",
      "2nd_X_Layer: True\n",
      "Con_1_Units: 512\n",
      "Con_2_Units: 16\n",
      "lr: 0.0021979153094558064\n",
      "X_2_Units: 64\n",
      "Con_3_Units: 32\n",
      "Score: 0.00044650660129263997\n",
      "Trial summary\n",
      "Hyperparameters:\n",
      "Emb_Out: 40\n",
      "Stock_Units: 32\n",
      "Drop_Rate_X: 0.30000000000000004\n",
      "Drop_Rate_Con: 0.30000000000000004\n",
      "Add_Con_Layers: 1\n",
      "X_1_Units: 256\n",
      "2nd_X_Layer: True\n",
      "Con_1_Units: 512\n",
      "Con_2_Units: 32\n",
      "lr: 0.002768554810672086\n",
      "X_2_Units: 128\n",
      "Con_3_Units: 8\n",
      "Score: 0.00044654367957264185\n"
     ]
    }
   ],
   "source": [
    "tuner_1.results_summary(3)"
   ]
  },
  {
   "cell_type": "code",
   "execution_count": 37,
   "id": "edd5fc51",
   "metadata": {},
   "outputs": [],
   "source": [
    "def build_model_2(hp):\n",
    "    stock_inputs = Input(shape=(1,), dtype=tf.uint16)  # Inputs into the model\n",
    "    price_inputs = Input(shape=(5,), dtype=tf.float32)\n",
    "    \n",
    "    stocks = stock_lookup_layer(stock_inputs)  # preprocessinglayer creating onehot outputs\n",
    "    stocks = Embedding(maxlen_stocks, 40, input_length=1)(stocks)\n",
    "    stocks = Reshape((-1, ))(stocks)\n",
    "    stocks = Dense(units=hp.Int('Stock_Units', 32, 72, 8), activation='relu')(stocks)\n",
    "    \n",
    "    X = Dense(units=hp.Choice('X_1_Units', [64, 128, 256]))(price_inputs)\n",
    "    X = BatchNormalization()(X)\n",
    "    X = Activation('relu')(X)\n",
    "    X = Dropout(0.25)(X)\n",
    "    \n",
    "    if hp.Boolean('2nd_X_Layer'):\n",
    "        X = Dense(units=hp.Choice('X_2_Units', [32, 64, 128]))(price_inputs)\n",
    "        X = BatchNormalization()(X)\n",
    "        X = Activation('relu')(X)\n",
    "        X = Dropout(0.25)(X)\n",
    "    \n",
    "    con = Concatenate(axis=1)([stocks, X])\n",
    "    \n",
    "    con = Dense(units=512)(con)\n",
    "    con = BatchNormalization()(con)\n",
    "    con = Activation('relu')(con)\n",
    "    con = Dropout(0.25)(con)\n",
    "    \n",
    "    con = Dense(units=hp.Choice('Con_2_Units', [16, 32]))(con)\n",
    "    con = BatchNormalization()(con)\n",
    "    con = Activation('relu')(con)\n",
    "    con = Dropout(0.25)(con)\n",
    "    \n",
    "    output = Dense(1)(con)\n",
    "    \n",
    "    rmse = RootMeanSquaredError(name='rmse')\n",
    "    \n",
    "    model = keras.Model(inputs=[stock_inputs, price_inputs], outputs=[output])\n",
    "    \n",
    "    lr = hp.Float(\"lr\", min_value=0.0005, max_value=0.002, sampling=\"log\")\n",
    "    \n",
    "    model.compile(loss='mse', optimizer=Adam(learning_rate=lr), metrics=[rmse])\n",
    "    \n",
    "    return model"
   ]
  },
  {
   "cell_type": "code",
   "execution_count": 38,
   "id": "22bc5dc0",
   "metadata": {},
   "outputs": [],
   "source": [
    "tuner_2 = kt.RandomSearch(\n",
    "    hypermodel=build_model_2,\n",
    "    objective='val_loss',\n",
    "    max_trials=100,\n",
    "    directory='NN_Logs_Tuner_2')"
   ]
  },
  {
   "cell_type": "code",
   "execution_count": 39,
   "id": "dad92460",
   "metadata": {},
   "outputs": [
    {
     "name": "stdout",
     "output_type": "stream",
     "text": [
      "Trial 100 Complete [00h 00m 16s]\n",
      "val_loss: 0.00044659030390903354\n",
      "\n",
      "Best val_loss So Far: 0.00044644103036262095\n",
      "Total elapsed time: 00h 28m 11s\n",
      "INFO:tensorflow:Oracle triggered exit\n"
     ]
    }
   ],
   "source": [
    "tuner_2.search((stocks_train, X_train), y_train, epochs=3, batch_size=1024,\n",
    "                validation_data=((stocks_test, X_test), y_test))"
   ]
  },
  {
   "cell_type": "code",
   "execution_count": 40,
   "id": "d1659d0f",
   "metadata": {},
   "outputs": [
    {
     "name": "stdout",
     "output_type": "stream",
     "text": [
      "Results summary\n",
      "Results in NN_Logs_Tuner_2/untitled_project\n",
      "Showing 3 best trials\n",
      "Objective(name='val_loss', direction='min')\n",
      "Trial summary\n",
      "Hyperparameters:\n",
      "Stock_Units: 56\n",
      "X_1_Units: 128\n",
      "2nd_X_Layer: False\n",
      "Con_2_Units: 32\n",
      "lr: 0.0019828883793758215\n",
      "X_2_Units: 128\n",
      "Score: 0.00044644103036262095\n",
      "Trial summary\n",
      "Hyperparameters:\n",
      "Stock_Units: 56\n",
      "X_1_Units: 128\n",
      "2nd_X_Layer: True\n",
      "Con_2_Units: 32\n",
      "lr: 0.0011599879176878356\n",
      "X_2_Units: 32\n",
      "Score: 0.00044646902824752033\n",
      "Trial summary\n",
      "Hyperparameters:\n",
      "Stock_Units: 64\n",
      "X_1_Units: 128\n",
      "2nd_X_Layer: False\n",
      "Con_2_Units: 32\n",
      "lr: 0.0011452275069150644\n",
      "X_2_Units: 32\n",
      "Score: 0.0004464886733330786\n"
     ]
    }
   ],
   "source": [
    "tuner_2.results_summary(3)"
   ]
  },
  {
   "cell_type": "code",
   "execution_count": 43,
   "id": "47d6fd02",
   "metadata": {},
   "outputs": [],
   "source": [
    "def build_best_model():\n",
    "    stock_inputs = Input(shape=(1,), dtype=tf.uint16)  # Inputs into the model\n",
    "    price_inputs = Input(shape=(5,), dtype=tf.float32)\n",
    "    \n",
    "    stocks = stock_lookup_layer(stock_inputs)  # preprocessinglayer creating onehot outputs\n",
    "    stocks = Embedding(maxlen_stocks, 40, input_length=1)(stocks)\n",
    "    stocks = Reshape((-1, ))(stocks)\n",
    "    stocks = Dense(units=56, activation='relu')(stocks)\n",
    "    \n",
    "    X = Dense(units=128)(price_inputs)\n",
    "    X = BatchNormalization()(X)\n",
    "    X = Activation('relu')(X)\n",
    "    X = Dropout(0.25)(X)\n",
    "    \n",
    "    con = Concatenate(axis=1)([stocks, X])\n",
    "    \n",
    "    con = Dense(units=512)(con)\n",
    "    con = BatchNormalization()(con)\n",
    "    con = Activation('relu')(con)\n",
    "    con = Dropout(0.25)(con)\n",
    "    \n",
    "    con = Dense(units=32)(con)\n",
    "    con = BatchNormalization()(con)\n",
    "    con = Activation('relu')(con)\n",
    "    con = Dropout(0.25)(con)\n",
    "    \n",
    "    output = Dense(1)(con)\n",
    "    \n",
    "    rmse = RootMeanSquaredError(name='rmse')\n",
    "    \n",
    "    model = keras.Model(inputs=[stock_inputs, price_inputs], outputs=[output])\n",
    "    \n",
    "    model.compile(loss='mse', optimizer=Adam(learning_rate=0.001), metrics=[rmse])\n",
    "    \n",
    "    return model"
   ]
  },
  {
   "cell_type": "code",
   "execution_count": 44,
   "id": "66c21579",
   "metadata": {},
   "outputs": [],
   "source": [
    "best_model = build_best_model()"
   ]
  },
  {
   "cell_type": "code",
   "execution_count": 48,
   "id": "d5815260",
   "metadata": {},
   "outputs": [],
   "source": [
    "es = EarlyStopping(patience=8, restore_best_weights=True)\n",
    "mc = ModelCheckpoint(filepath='Best_NN_Weights.tf', save_best_only=True)\n",
    "tb = TensorBoard(log_dir='TensorBoard_Logs_1')\n",
    "cb = [es, mc, tb]"
   ]
  },
  {
   "cell_type": "code",
   "execution_count": 49,
   "id": "2f6093a4",
   "metadata": {},
   "outputs": [
    {
     "name": "stdout",
     "output_type": "stream",
     "text": [
      "Epoch 1/1000\n",
      "1951/1961 [============================>.] - ETA: 0s - loss: 6.0740e-04 - rmse: 0.0246INFO:tensorflow:Assets written to: Best_NN_Weights.tf/assets\n",
      "1961/1961 [==============================] - 6s 3ms/step - loss: 6.0754e-04 - rmse: 0.0246 - val_loss: 4.4668e-04 - val_rmse: 0.0211\n",
      "Epoch 2/1000\n",
      "1961/1961 [==============================] - 5s 3ms/step - loss: 5.7788e-04 - rmse: 0.0240 - val_loss: 4.4669e-04 - val_rmse: 0.0211\n",
      "Epoch 3/1000\n",
      "1961/1961 [==============================] - 5s 3ms/step - loss: 5.7506e-04 - rmse: 0.0240 - val_loss: 4.4700e-04 - val_rmse: 0.0211\n",
      "Epoch 4/1000\n",
      "1961/1961 [==============================] - 5s 3ms/step - loss: 5.7481e-04 - rmse: 0.0240 - val_loss: 4.4706e-04 - val_rmse: 0.0211\n",
      "Epoch 5/1000\n",
      "1961/1961 [==============================] - 5s 3ms/step - loss: 5.7464e-04 - rmse: 0.0240 - val_loss: 4.4686e-04 - val_rmse: 0.0211\n",
      "Epoch 6/1000\n",
      "1961/1961 [==============================] - 5s 3ms/step - loss: 5.7426e-04 - rmse: 0.0240 - val_loss: 4.4686e-04 - val_rmse: 0.0211\n",
      "Epoch 7/1000\n",
      "1961/1961 [==============================] - 5s 3ms/step - loss: 5.7399e-04 - rmse: 0.0240 - val_loss: 4.4671e-04 - val_rmse: 0.0211\n",
      "Epoch 8/1000\n",
      "1961/1961 [==============================] - 5s 3ms/step - loss: 5.7392e-04 - rmse: 0.0240 - val_loss: 4.4670e-04 - val_rmse: 0.0211\n",
      "Epoch 9/1000\n",
      "1961/1961 [==============================] - 5s 3ms/step - loss: 5.7383e-04 - rmse: 0.0240 - val_loss: 4.4686e-04 - val_rmse: 0.0211\n"
     ]
    },
    {
     "data": {
      "text/plain": [
       "<keras.callbacks.History at 0x7f4860799a90>"
      ]
     },
     "execution_count": 49,
     "metadata": {},
     "output_type": "execute_result"
    }
   ],
   "source": [
    "best_model.fit((stocks_train, X_train), y_train, epochs=1000, batch_size=1024, callbacks=cb,\n",
    "                validation_data=((stocks_test, X_test), y_test))"
   ]
  },
  {
   "cell_type": "code",
   "execution_count": 50,
   "id": "6f4a4e9e",
   "metadata": {},
   "outputs": [
    {
     "data": {
      "text/html": [
       "\n",
       "      <iframe id=\"tensorboard-frame-1cfbec289e2b870d\" width=\"100%\" height=\"800\" frameborder=\"0\">\n",
       "      </iframe>\n",
       "      <script>\n",
       "        (function() {\n",
       "          const frame = document.getElementById(\"tensorboard-frame-1cfbec289e2b870d\");\n",
       "          const url = new URL(\"/\", window.location);\n",
       "          const port = 6009;\n",
       "          if (port) {\n",
       "            url.port = port;\n",
       "          }\n",
       "          frame.src = url;\n",
       "        })();\n",
       "      </script>\n",
       "    "
      ],
      "text/plain": [
       "<IPython.core.display.HTML object>"
      ]
     },
     "metadata": {},
     "output_type": "display_data"
    }
   ],
   "source": [
    "%load_ext tensorboard\n",
    "%tensorboard --logdir=./TensorBoard_Logs_1 --port=6009"
   ]
  }
 ],
 "metadata": {
  "kernelspec": {
   "display_name": "Python 3 (ipykernel)",
   "language": "python",
   "name": "python3"
  },
  "language_info": {
   "codemirror_mode": {
    "name": "ipython",
    "version": 3
   },
   "file_extension": ".py",
   "mimetype": "text/x-python",
   "name": "python",
   "nbconvert_exporter": "python",
   "pygments_lexer": "ipython3",
   "version": "3.7.12"
  }
 },
 "nbformat": 4,
 "nbformat_minor": 5
}
